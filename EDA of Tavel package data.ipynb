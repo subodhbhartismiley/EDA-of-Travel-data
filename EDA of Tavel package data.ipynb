{
 "cells": [
  {
   "cell_type": "markdown",
   "metadata": {},
   "source": [
    "# EDA of Tavel package data\n",
    "## Dataset Attributes:\n",
    "\n",
    "### Customer details:\n",
    "\n",
    "1. CustomerID: Unique customer ID\n",
    "2. ProdTaken: Whether the customer has purchased a package or not (0: No, 1: Yes)\n",
    "3. Age: Age of customer\n",
    "4. TypeofContact: How customer was contacted (Company Invited or Self Inquiry)\n",
    "5. CityTier: City tier depends on the development of a city, population, facilities, and living standards. The categories are ordered i.e. Tier 1 > Tier 2 > Tier 3\n",
    "6. Occupation: Occupation of customer\n",
    "7. Gender: Gender of customer\n",
    "8. NumberOfPersonVisiting: Total number of persons planning to take the trip with the customer\n",
    "9. PreferredPropertyStar: Preferred hotel property rating by customer\n",
    "10. MaritalStatus: Marital status of customer\n",
    "11. NumberOfTrips: Average number of trips in a year by customer\n",
    "12. Passport: The customer has a passport or not (0: No, 1: Yes)\n",
    "13. OwnCar: Whether the customers own a car or not (0: No, 1: Yes)\n",
    "14. NumberOfChildrenVisiting: Total number of children with age less than 5 planning to take the trip with the customer\n",
    "15. Designation: Designation of the customer in the current organization\n",
    "16. MonthlyIncome: Gross monthly income of the customer\n",
    "\n",
    "### Customer interaction data: \n",
    "\n",
    "1. PitchSatisfactionScore: Sales pitch satisfaction score\n",
    "2. ProductPitched: Product pitched by the salesperson\n",
    "3. NumberOfFollowups: Total number of follow-ups has been done by the salesperson after the sales pitch\n",
    "4. DurationOfPitch: Duration of the pitch by a salesperson to the customer"
   ]
  },
  {
   "cell_type": "markdown",
   "metadata": {},
   "source": [
    "## Importing Necessary Libraries"
   ]
  },
  {
   "cell_type": "code",
   "execution_count": 1,
   "metadata": {
    "execution": {
     "iopub.execute_input": "2021-07-13T02:30:35.426366Z",
     "iopub.status.busy": "2021-07-13T02:30:35.425968Z",
     "iopub.status.idle": "2021-07-13T02:30:35.43479Z",
     "shell.execute_reply": "2021-07-13T02:30:35.434222Z",
     "shell.execute_reply.started": "2021-07-13T02:30:35.426341Z"
    }
   },
   "outputs": [],
   "source": [
    "import warnings\n",
    "warnings.filterwarnings(\"ignore\")\n",
    "\n",
    "import pandas as pd\n",
    "import numpy as np\n",
    "import matplotlib as mpl\n",
    "import matplotlib.pyplot as plt\n",
    "import seaborn as sns\n",
    "%matplotlib inline\n",
    "pd.set_option(\"display.max_columns\", None)\n",
    "# pd.set_option('display.max_rows', None)\n",
    "pd.set_option(\"display.max_rows\", 200)\n",
    "\n",
    "from sklearn.ensemble import BaggingClassifier\n",
    "from sklearn.ensemble import RandomForestClassifier\n",
    "from sklearn.ensemble import AdaBoostClassifier, GradientBoostingClassifier\n",
    "from xgboost import XGBClassifier\n",
    "from sklearn import tree\n",
    "from sklearn import metrics\n",
    "from sklearn.tree import DecisionTreeClassifier\n",
    "from sklearn.model_selection import GridSearchCV, train_test_split\n",
    "from sklearn import metrics\n",
    "from sklearn.metrics import accuracy_score, recall_score, precision_score, f1_score,roc_auc_score, roc_curve, confusion_matrix, precision_recall_curve\n",
    "# For pandas profiling\n",
    "from pandas_profiling import ProfileReport"
   ]
  },
  {
   "cell_type": "markdown",
   "metadata": {},
   "source": [
    "## Load and Explore the Data"
   ]
  },
  {
   "cell_type": "code",
   "execution_count": 2,
   "metadata": {
    "execution": {
     "iopub.execute_input": "2021-07-13T02:30:35.436109Z",
     "iopub.status.busy": "2021-07-13T02:30:35.435773Z",
     "iopub.status.idle": "2021-07-13T02:30:35.474476Z",
     "shell.execute_reply": "2021-07-13T02:30:35.473938Z",
     "shell.execute_reply.started": "2021-07-13T02:30:35.436085Z"
    }
   },
   "outputs": [],
   "source": [
    "# C:\\Users\\sub13\\Downloads\\Dataset (1)\\Dataset\\data1\n",
    "path = 'C:/Users/sub13/Downloads/Dataset (1)/Dataset/data1/Travel.csv'\n",
    "#data = pd.read_csv(path) #load the data"
   ]
  },
  {
   "cell_type": "code",
   "execution_count": 3,
   "metadata": {},
   "outputs": [
    {
     "data": {
      "text/html": [
       "<div>\n",
       "<style scoped>\n",
       "    .dataframe tbody tr th:only-of-type {\n",
       "        vertical-align: middle;\n",
       "    }\n",
       "\n",
       "    .dataframe tbody tr th {\n",
       "        vertical-align: top;\n",
       "    }\n",
       "\n",
       "    .dataframe thead th {\n",
       "        text-align: right;\n",
       "    }\n",
       "</style>\n",
       "<table border=\"1\" class=\"dataframe\">\n",
       "  <thead>\n",
       "    <tr style=\"text-align: right;\">\n",
       "      <th></th>\n",
       "      <th>CustomerID</th>\n",
       "      <th>ProdTaken</th>\n",
       "      <th>Age</th>\n",
       "      <th>TypeofContact</th>\n",
       "      <th>CityTier</th>\n",
       "      <th>DurationOfPitch</th>\n",
       "      <th>Occupation</th>\n",
       "      <th>Gender</th>\n",
       "      <th>NumberOfPersonVisiting</th>\n",
       "      <th>NumberOfFollowups</th>\n",
       "      <th>ProductPitched</th>\n",
       "      <th>PreferredPropertyStar</th>\n",
       "      <th>MaritalStatus</th>\n",
       "      <th>NumberOfTrips</th>\n",
       "      <th>Passport</th>\n",
       "      <th>PitchSatisfactionScore</th>\n",
       "      <th>OwnCar</th>\n",
       "      <th>NumberOfChildrenVisiting</th>\n",
       "      <th>Designation</th>\n",
       "      <th>MonthlyIncome</th>\n",
       "    </tr>\n",
       "  </thead>\n",
       "  <tbody>\n",
       "    <tr>\n",
       "      <th>0</th>\n",
       "      <td>200000</td>\n",
       "      <td>1</td>\n",
       "      <td>41.0</td>\n",
       "      <td>Self Enquiry</td>\n",
       "      <td>3</td>\n",
       "      <td>6.0</td>\n",
       "      <td>Salaried</td>\n",
       "      <td>Female</td>\n",
       "      <td>3</td>\n",
       "      <td>3.0</td>\n",
       "      <td>Deluxe</td>\n",
       "      <td>3.0</td>\n",
       "      <td>Single</td>\n",
       "      <td>1.0</td>\n",
       "      <td>1</td>\n",
       "      <td>2</td>\n",
       "      <td>1</td>\n",
       "      <td>0.0</td>\n",
       "      <td>Manager</td>\n",
       "      <td>20993.0</td>\n",
       "    </tr>\n",
       "    <tr>\n",
       "      <th>1</th>\n",
       "      <td>200001</td>\n",
       "      <td>0</td>\n",
       "      <td>49.0</td>\n",
       "      <td>Company Invited</td>\n",
       "      <td>1</td>\n",
       "      <td>14.0</td>\n",
       "      <td>Salaried</td>\n",
       "      <td>Male</td>\n",
       "      <td>3</td>\n",
       "      <td>4.0</td>\n",
       "      <td>Deluxe</td>\n",
       "      <td>4.0</td>\n",
       "      <td>Divorced</td>\n",
       "      <td>2.0</td>\n",
       "      <td>0</td>\n",
       "      <td>3</td>\n",
       "      <td>1</td>\n",
       "      <td>2.0</td>\n",
       "      <td>Manager</td>\n",
       "      <td>20130.0</td>\n",
       "    </tr>\n",
       "    <tr>\n",
       "      <th>2</th>\n",
       "      <td>200002</td>\n",
       "      <td>1</td>\n",
       "      <td>37.0</td>\n",
       "      <td>Self Enquiry</td>\n",
       "      <td>1</td>\n",
       "      <td>8.0</td>\n",
       "      <td>Free Lancer</td>\n",
       "      <td>Male</td>\n",
       "      <td>3</td>\n",
       "      <td>4.0</td>\n",
       "      <td>Basic</td>\n",
       "      <td>3.0</td>\n",
       "      <td>Single</td>\n",
       "      <td>7.0</td>\n",
       "      <td>1</td>\n",
       "      <td>3</td>\n",
       "      <td>0</td>\n",
       "      <td>0.0</td>\n",
       "      <td>Executive</td>\n",
       "      <td>17090.0</td>\n",
       "    </tr>\n",
       "    <tr>\n",
       "      <th>3</th>\n",
       "      <td>200003</td>\n",
       "      <td>0</td>\n",
       "      <td>33.0</td>\n",
       "      <td>Company Invited</td>\n",
       "      <td>1</td>\n",
       "      <td>9.0</td>\n",
       "      <td>Salaried</td>\n",
       "      <td>Female</td>\n",
       "      <td>2</td>\n",
       "      <td>3.0</td>\n",
       "      <td>Basic</td>\n",
       "      <td>3.0</td>\n",
       "      <td>Divorced</td>\n",
       "      <td>2.0</td>\n",
       "      <td>1</td>\n",
       "      <td>5</td>\n",
       "      <td>1</td>\n",
       "      <td>1.0</td>\n",
       "      <td>Executive</td>\n",
       "      <td>17909.0</td>\n",
       "    </tr>\n",
       "    <tr>\n",
       "      <th>4</th>\n",
       "      <td>200004</td>\n",
       "      <td>0</td>\n",
       "      <td>NaN</td>\n",
       "      <td>Self Enquiry</td>\n",
       "      <td>1</td>\n",
       "      <td>8.0</td>\n",
       "      <td>Small Business</td>\n",
       "      <td>Male</td>\n",
       "      <td>2</td>\n",
       "      <td>3.0</td>\n",
       "      <td>Basic</td>\n",
       "      <td>4.0</td>\n",
       "      <td>Divorced</td>\n",
       "      <td>1.0</td>\n",
       "      <td>0</td>\n",
       "      <td>5</td>\n",
       "      <td>1</td>\n",
       "      <td>0.0</td>\n",
       "      <td>Executive</td>\n",
       "      <td>18468.0</td>\n",
       "    </tr>\n",
       "  </tbody>\n",
       "</table>\n",
       "</div>"
      ],
      "text/plain": [
       "   CustomerID  ProdTaken   Age    TypeofContact  CityTier  DurationOfPitch  \\\n",
       "0      200000          1  41.0     Self Enquiry         3              6.0   \n",
       "1      200001          0  49.0  Company Invited         1             14.0   \n",
       "2      200002          1  37.0     Self Enquiry         1              8.0   \n",
       "3      200003          0  33.0  Company Invited         1              9.0   \n",
       "4      200004          0   NaN     Self Enquiry         1              8.0   \n",
       "\n",
       "       Occupation  Gender  NumberOfPersonVisiting  NumberOfFollowups  \\\n",
       "0        Salaried  Female                       3                3.0   \n",
       "1        Salaried    Male                       3                4.0   \n",
       "2     Free Lancer    Male                       3                4.0   \n",
       "3        Salaried  Female                       2                3.0   \n",
       "4  Small Business    Male                       2                3.0   \n",
       "\n",
       "  ProductPitched  PreferredPropertyStar MaritalStatus  NumberOfTrips  \\\n",
       "0         Deluxe                    3.0        Single            1.0   \n",
       "1         Deluxe                    4.0      Divorced            2.0   \n",
       "2          Basic                    3.0        Single            7.0   \n",
       "3          Basic                    3.0      Divorced            2.0   \n",
       "4          Basic                    4.0      Divorced            1.0   \n",
       "\n",
       "   Passport  PitchSatisfactionScore  OwnCar  NumberOfChildrenVisiting  \\\n",
       "0         1                       2       1                       0.0   \n",
       "1         0                       3       1                       2.0   \n",
       "2         1                       3       0                       0.0   \n",
       "3         1                       5       1                       1.0   \n",
       "4         0                       5       1                       0.0   \n",
       "\n",
       "  Designation  MonthlyIncome  \n",
       "0     Manager        20993.0  \n",
       "1     Manager        20130.0  \n",
       "2   Executive        17090.0  \n",
       "3   Executive        17909.0  \n",
       "4   Executive        18468.0  "
      ]
     },
     "execution_count": 3,
     "metadata": {},
     "output_type": "execute_result"
    }
   ],
   "source": [
    "data = pd.read_csv(path) #load the data\n",
    "data.head()"
   ]
  },
  {
   "cell_type": "code",
   "execution_count": 4,
   "metadata": {},
   "outputs": [
    {
     "data": {
      "text/html": [
       "<div>\n",
       "<style scoped>\n",
       "    .dataframe tbody tr th:only-of-type {\n",
       "        vertical-align: middle;\n",
       "    }\n",
       "\n",
       "    .dataframe tbody tr th {\n",
       "        vertical-align: top;\n",
       "    }\n",
       "\n",
       "    .dataframe thead th {\n",
       "        text-align: right;\n",
       "    }\n",
       "</style>\n",
       "<table border=\"1\" class=\"dataframe\">\n",
       "  <thead>\n",
       "    <tr style=\"text-align: right;\">\n",
       "      <th></th>\n",
       "      <th>CustomerID</th>\n",
       "      <th>ProdTaken</th>\n",
       "      <th>Age</th>\n",
       "      <th>TypeofContact</th>\n",
       "      <th>CityTier</th>\n",
       "      <th>DurationOfPitch</th>\n",
       "      <th>Occupation</th>\n",
       "      <th>Gender</th>\n",
       "      <th>NumberOfPersonVisiting</th>\n",
       "      <th>NumberOfFollowups</th>\n",
       "      <th>ProductPitched</th>\n",
       "      <th>PreferredPropertyStar</th>\n",
       "      <th>MaritalStatus</th>\n",
       "      <th>NumberOfTrips</th>\n",
       "      <th>Passport</th>\n",
       "      <th>PitchSatisfactionScore</th>\n",
       "      <th>OwnCar</th>\n",
       "      <th>NumberOfChildrenVisiting</th>\n",
       "      <th>Designation</th>\n",
       "      <th>MonthlyIncome</th>\n",
       "    </tr>\n",
       "  </thead>\n",
       "  <tbody>\n",
       "    <tr>\n",
       "      <th>0</th>\n",
       "      <td>200000</td>\n",
       "      <td>1</td>\n",
       "      <td>41.0</td>\n",
       "      <td>Self Enquiry</td>\n",
       "      <td>3</td>\n",
       "      <td>6.0</td>\n",
       "      <td>Salaried</td>\n",
       "      <td>Female</td>\n",
       "      <td>3</td>\n",
       "      <td>3.0</td>\n",
       "      <td>Deluxe</td>\n",
       "      <td>3.0</td>\n",
       "      <td>Single</td>\n",
       "      <td>1.0</td>\n",
       "      <td>1</td>\n",
       "      <td>2</td>\n",
       "      <td>1</td>\n",
       "      <td>0.0</td>\n",
       "      <td>Manager</td>\n",
       "      <td>20993.0</td>\n",
       "    </tr>\n",
       "    <tr>\n",
       "      <th>1</th>\n",
       "      <td>200001</td>\n",
       "      <td>0</td>\n",
       "      <td>49.0</td>\n",
       "      <td>Company Invited</td>\n",
       "      <td>1</td>\n",
       "      <td>14.0</td>\n",
       "      <td>Salaried</td>\n",
       "      <td>Male</td>\n",
       "      <td>3</td>\n",
       "      <td>4.0</td>\n",
       "      <td>Deluxe</td>\n",
       "      <td>4.0</td>\n",
       "      <td>Divorced</td>\n",
       "      <td>2.0</td>\n",
       "      <td>0</td>\n",
       "      <td>3</td>\n",
       "      <td>1</td>\n",
       "      <td>2.0</td>\n",
       "      <td>Manager</td>\n",
       "      <td>20130.0</td>\n",
       "    </tr>\n",
       "    <tr>\n",
       "      <th>2</th>\n",
       "      <td>200002</td>\n",
       "      <td>1</td>\n",
       "      <td>37.0</td>\n",
       "      <td>Self Enquiry</td>\n",
       "      <td>1</td>\n",
       "      <td>8.0</td>\n",
       "      <td>Free Lancer</td>\n",
       "      <td>Male</td>\n",
       "      <td>3</td>\n",
       "      <td>4.0</td>\n",
       "      <td>Basic</td>\n",
       "      <td>3.0</td>\n",
       "      <td>Single</td>\n",
       "      <td>7.0</td>\n",
       "      <td>1</td>\n",
       "      <td>3</td>\n",
       "      <td>0</td>\n",
       "      <td>0.0</td>\n",
       "      <td>Executive</td>\n",
       "      <td>17090.0</td>\n",
       "    </tr>\n",
       "    <tr>\n",
       "      <th>3</th>\n",
       "      <td>200003</td>\n",
       "      <td>0</td>\n",
       "      <td>33.0</td>\n",
       "      <td>Company Invited</td>\n",
       "      <td>1</td>\n",
       "      <td>9.0</td>\n",
       "      <td>Salaried</td>\n",
       "      <td>Female</td>\n",
       "      <td>2</td>\n",
       "      <td>3.0</td>\n",
       "      <td>Basic</td>\n",
       "      <td>3.0</td>\n",
       "      <td>Divorced</td>\n",
       "      <td>2.0</td>\n",
       "      <td>1</td>\n",
       "      <td>5</td>\n",
       "      <td>1</td>\n",
       "      <td>1.0</td>\n",
       "      <td>Executive</td>\n",
       "      <td>17909.0</td>\n",
       "    </tr>\n",
       "    <tr>\n",
       "      <th>4</th>\n",
       "      <td>200004</td>\n",
       "      <td>0</td>\n",
       "      <td>NaN</td>\n",
       "      <td>Self Enquiry</td>\n",
       "      <td>1</td>\n",
       "      <td>8.0</td>\n",
       "      <td>Small Business</td>\n",
       "      <td>Male</td>\n",
       "      <td>2</td>\n",
       "      <td>3.0</td>\n",
       "      <td>Basic</td>\n",
       "      <td>4.0</td>\n",
       "      <td>Divorced</td>\n",
       "      <td>1.0</td>\n",
       "      <td>0</td>\n",
       "      <td>5</td>\n",
       "      <td>1</td>\n",
       "      <td>0.0</td>\n",
       "      <td>Executive</td>\n",
       "      <td>18468.0</td>\n",
       "    </tr>\n",
       "  </tbody>\n",
       "</table>\n",
       "</div>"
      ],
      "text/plain": [
       "   CustomerID  ProdTaken   Age    TypeofContact  CityTier  DurationOfPitch  \\\n",
       "0      200000          1  41.0     Self Enquiry         3              6.0   \n",
       "1      200001          0  49.0  Company Invited         1             14.0   \n",
       "2      200002          1  37.0     Self Enquiry         1              8.0   \n",
       "3      200003          0  33.0  Company Invited         1              9.0   \n",
       "4      200004          0   NaN     Self Enquiry         1              8.0   \n",
       "\n",
       "       Occupation  Gender  NumberOfPersonVisiting  NumberOfFollowups  \\\n",
       "0        Salaried  Female                       3                3.0   \n",
       "1        Salaried    Male                       3                4.0   \n",
       "2     Free Lancer    Male                       3                4.0   \n",
       "3        Salaried  Female                       2                3.0   \n",
       "4  Small Business    Male                       2                3.0   \n",
       "\n",
       "  ProductPitched  PreferredPropertyStar MaritalStatus  NumberOfTrips  \\\n",
       "0         Deluxe                    3.0        Single            1.0   \n",
       "1         Deluxe                    4.0      Divorced            2.0   \n",
       "2          Basic                    3.0        Single            7.0   \n",
       "3          Basic                    3.0      Divorced            2.0   \n",
       "4          Basic                    4.0      Divorced            1.0   \n",
       "\n",
       "   Passport  PitchSatisfactionScore  OwnCar  NumberOfChildrenVisiting  \\\n",
       "0         1                       2       1                       0.0   \n",
       "1         0                       3       1                       2.0   \n",
       "2         1                       3       0                       0.0   \n",
       "3         1                       5       1                       1.0   \n",
       "4         0                       5       1                       0.0   \n",
       "\n",
       "  Designation  MonthlyIncome  \n",
       "0     Manager        20993.0  \n",
       "1     Manager        20130.0  \n",
       "2   Executive        17090.0  \n",
       "3   Executive        17909.0  \n",
       "4   Executive        18468.0  "
      ]
     },
     "execution_count": 4,
     "metadata": {},
     "output_type": "execute_result"
    }
   ],
   "source": [
    "data = pd.read_csv(path) #load the data\n",
    "data.head()"
   ]
  },
  {
   "cell_type": "code",
   "execution_count": 5,
   "metadata": {
    "execution": {
     "iopub.execute_input": "2021-07-13T02:30:35.475746Z",
     "iopub.status.busy": "2021-07-13T02:30:35.475437Z",
     "iopub.status.idle": "2021-07-13T02:30:35.530804Z",
     "shell.execute_reply": "2021-07-13T02:30:35.530008Z",
     "shell.execute_reply.started": "2021-07-13T02:30:35.475724Z"
    }
   },
   "outputs": [
    {
     "name": "stdout",
     "output_type": "stream",
     "text": [
      "There are 4888 rows and 20 columns.\n"
     ]
    },
    {
     "data": {
      "text/html": [
       "<div>\n",
       "<style scoped>\n",
       "    .dataframe tbody tr th:only-of-type {\n",
       "        vertical-align: middle;\n",
       "    }\n",
       "\n",
       "    .dataframe tbody tr th {\n",
       "        vertical-align: top;\n",
       "    }\n",
       "\n",
       "    .dataframe thead th {\n",
       "        text-align: right;\n",
       "    }\n",
       "</style>\n",
       "<table border=\"1\" class=\"dataframe\">\n",
       "  <thead>\n",
       "    <tr style=\"text-align: right;\">\n",
       "      <th></th>\n",
       "      <th>CustomerID</th>\n",
       "      <th>ProdTaken</th>\n",
       "      <th>Age</th>\n",
       "      <th>TypeofContact</th>\n",
       "      <th>CityTier</th>\n",
       "      <th>DurationOfPitch</th>\n",
       "      <th>Occupation</th>\n",
       "      <th>Gender</th>\n",
       "      <th>NumberOfPersonVisiting</th>\n",
       "      <th>NumberOfFollowups</th>\n",
       "      <th>ProductPitched</th>\n",
       "      <th>PreferredPropertyStar</th>\n",
       "      <th>MaritalStatus</th>\n",
       "      <th>NumberOfTrips</th>\n",
       "      <th>Passport</th>\n",
       "      <th>PitchSatisfactionScore</th>\n",
       "      <th>OwnCar</th>\n",
       "      <th>NumberOfChildrenVisiting</th>\n",
       "      <th>Designation</th>\n",
       "      <th>MonthlyIncome</th>\n",
       "    </tr>\n",
       "  </thead>\n",
       "  <tbody>\n",
       "    <tr>\n",
       "      <th>4019</th>\n",
       "      <td>204019</td>\n",
       "      <td>0</td>\n",
       "      <td>60.0</td>\n",
       "      <td>Company Invited</td>\n",
       "      <td>2</td>\n",
       "      <td>9.0</td>\n",
       "      <td>Salaried</td>\n",
       "      <td>Female</td>\n",
       "      <td>3</td>\n",
       "      <td>5.0</td>\n",
       "      <td>King</td>\n",
       "      <td>3.0</td>\n",
       "      <td>Married</td>\n",
       "      <td>NaN</td>\n",
       "      <td>0</td>\n",
       "      <td>1</td>\n",
       "      <td>0</td>\n",
       "      <td>2.0</td>\n",
       "      <td>VP</td>\n",
       "      <td>37522.0</td>\n",
       "    </tr>\n",
       "    <tr>\n",
       "      <th>1365</th>\n",
       "      <td>201365</td>\n",
       "      <td>1</td>\n",
       "      <td>29.0</td>\n",
       "      <td>Company Invited</td>\n",
       "      <td>3</td>\n",
       "      <td>30.0</td>\n",
       "      <td>Large Business</td>\n",
       "      <td>Male</td>\n",
       "      <td>2</td>\n",
       "      <td>1.0</td>\n",
       "      <td>Basic</td>\n",
       "      <td>5.0</td>\n",
       "      <td>Single</td>\n",
       "      <td>2.0</td>\n",
       "      <td>0</td>\n",
       "      <td>3</td>\n",
       "      <td>1</td>\n",
       "      <td>1.0</td>\n",
       "      <td>Executive</td>\n",
       "      <td>16091.0</td>\n",
       "    </tr>\n",
       "    <tr>\n",
       "      <th>473</th>\n",
       "      <td>200473</td>\n",
       "      <td>0</td>\n",
       "      <td>49.0</td>\n",
       "      <td>Self Enquiry</td>\n",
       "      <td>1</td>\n",
       "      <td>24.0</td>\n",
       "      <td>Salaried</td>\n",
       "      <td>Male</td>\n",
       "      <td>2</td>\n",
       "      <td>4.0</td>\n",
       "      <td>King</td>\n",
       "      <td>3.0</td>\n",
       "      <td>Married</td>\n",
       "      <td>2.0</td>\n",
       "      <td>1</td>\n",
       "      <td>3</td>\n",
       "      <td>0</td>\n",
       "      <td>1.0</td>\n",
       "      <td>VP</td>\n",
       "      <td>34502.0</td>\n",
       "    </tr>\n",
       "    <tr>\n",
       "      <th>2554</th>\n",
       "      <td>202554</td>\n",
       "      <td>0</td>\n",
       "      <td>52.0</td>\n",
       "      <td>Company Invited</td>\n",
       "      <td>1</td>\n",
       "      <td>7.0</td>\n",
       "      <td>Small Business</td>\n",
       "      <td>Fe Male</td>\n",
       "      <td>2</td>\n",
       "      <td>5.0</td>\n",
       "      <td>Standard</td>\n",
       "      <td>5.0</td>\n",
       "      <td>Unmarried</td>\n",
       "      <td>5.0</td>\n",
       "      <td>0</td>\n",
       "      <td>2</td>\n",
       "      <td>1</td>\n",
       "      <td>1.0</td>\n",
       "      <td>Senior Manager</td>\n",
       "      <td>26162.0</td>\n",
       "    </tr>\n",
       "    <tr>\n",
       "      <th>1492</th>\n",
       "      <td>201492</td>\n",
       "      <td>0</td>\n",
       "      <td>34.0</td>\n",
       "      <td>Self Enquiry</td>\n",
       "      <td>1</td>\n",
       "      <td>13.0</td>\n",
       "      <td>Salaried</td>\n",
       "      <td>Fe Male</td>\n",
       "      <td>2</td>\n",
       "      <td>3.0</td>\n",
       "      <td>Standard</td>\n",
       "      <td>4.0</td>\n",
       "      <td>Unmarried</td>\n",
       "      <td>1.0</td>\n",
       "      <td>0</td>\n",
       "      <td>5</td>\n",
       "      <td>0</td>\n",
       "      <td>0.0</td>\n",
       "      <td>Senior Manager</td>\n",
       "      <td>26994.0</td>\n",
       "    </tr>\n",
       "    <tr>\n",
       "      <th>3809</th>\n",
       "      <td>203809</td>\n",
       "      <td>1</td>\n",
       "      <td>30.0</td>\n",
       "      <td>Company Invited</td>\n",
       "      <td>3</td>\n",
       "      <td>NaN</td>\n",
       "      <td>Large Business</td>\n",
       "      <td>Male</td>\n",
       "      <td>3</td>\n",
       "      <td>2.0</td>\n",
       "      <td>Basic</td>\n",
       "      <td>5.0</td>\n",
       "      <td>Single</td>\n",
       "      <td>3.0</td>\n",
       "      <td>0</td>\n",
       "      <td>3</td>\n",
       "      <td>1</td>\n",
       "      <td>2.0</td>\n",
       "      <td>Executive</td>\n",
       "      <td>19769.0</td>\n",
       "    </tr>\n",
       "    <tr>\n",
       "      <th>4385</th>\n",
       "      <td>204385</td>\n",
       "      <td>0</td>\n",
       "      <td>39.0</td>\n",
       "      <td>Self Enquiry</td>\n",
       "      <td>1</td>\n",
       "      <td>17.0</td>\n",
       "      <td>Small Business</td>\n",
       "      <td>Female</td>\n",
       "      <td>4</td>\n",
       "      <td>4.0</td>\n",
       "      <td>Deluxe</td>\n",
       "      <td>3.0</td>\n",
       "      <td>Married</td>\n",
       "      <td>5.0</td>\n",
       "      <td>0</td>\n",
       "      <td>3</td>\n",
       "      <td>0</td>\n",
       "      <td>2.0</td>\n",
       "      <td>Manager</td>\n",
       "      <td>28502.0</td>\n",
       "    </tr>\n",
       "    <tr>\n",
       "      <th>521</th>\n",
       "      <td>200521</td>\n",
       "      <td>0</td>\n",
       "      <td>27.0</td>\n",
       "      <td>Company Invited</td>\n",
       "      <td>3</td>\n",
       "      <td>NaN</td>\n",
       "      <td>Small Business</td>\n",
       "      <td>Female</td>\n",
       "      <td>3</td>\n",
       "      <td>2.0</td>\n",
       "      <td>Deluxe</td>\n",
       "      <td>3.0</td>\n",
       "      <td>Married</td>\n",
       "      <td>2.0</td>\n",
       "      <td>1</td>\n",
       "      <td>2</td>\n",
       "      <td>1</td>\n",
       "      <td>2.0</td>\n",
       "      <td>Manager</td>\n",
       "      <td>19647.0</td>\n",
       "    </tr>\n",
       "    <tr>\n",
       "      <th>4358</th>\n",
       "      <td>204358</td>\n",
       "      <td>0</td>\n",
       "      <td>49.0</td>\n",
       "      <td>Self Enquiry</td>\n",
       "      <td>3</td>\n",
       "      <td>9.0</td>\n",
       "      <td>Small Business</td>\n",
       "      <td>Female</td>\n",
       "      <td>3</td>\n",
       "      <td>4.0</td>\n",
       "      <td>Deluxe</td>\n",
       "      <td>3.0</td>\n",
       "      <td>Married</td>\n",
       "      <td>4.0</td>\n",
       "      <td>0</td>\n",
       "      <td>5</td>\n",
       "      <td>1</td>\n",
       "      <td>1.0</td>\n",
       "      <td>Manager</td>\n",
       "      <td>22729.0</td>\n",
       "    </tr>\n",
       "    <tr>\n",
       "      <th>475</th>\n",
       "      <td>200475</td>\n",
       "      <td>0</td>\n",
       "      <td>26.0</td>\n",
       "      <td>Self Enquiry</td>\n",
       "      <td>3</td>\n",
       "      <td>34.0</td>\n",
       "      <td>Small Business</td>\n",
       "      <td>Male</td>\n",
       "      <td>3</td>\n",
       "      <td>3.0</td>\n",
       "      <td>Deluxe</td>\n",
       "      <td>4.0</td>\n",
       "      <td>Divorced</td>\n",
       "      <td>2.0</td>\n",
       "      <td>0</td>\n",
       "      <td>3</td>\n",
       "      <td>1</td>\n",
       "      <td>0.0</td>\n",
       "      <td>Manager</td>\n",
       "      <td>21272.0</td>\n",
       "    </tr>\n",
       "  </tbody>\n",
       "</table>\n",
       "</div>"
      ],
      "text/plain": [
       "      CustomerID  ProdTaken   Age    TypeofContact  CityTier  DurationOfPitch  \\\n",
       "4019      204019          0  60.0  Company Invited         2              9.0   \n",
       "1365      201365          1  29.0  Company Invited         3             30.0   \n",
       "473       200473          0  49.0     Self Enquiry         1             24.0   \n",
       "2554      202554          0  52.0  Company Invited         1              7.0   \n",
       "1492      201492          0  34.0     Self Enquiry         1             13.0   \n",
       "3809      203809          1  30.0  Company Invited         3              NaN   \n",
       "4385      204385          0  39.0     Self Enquiry         1             17.0   \n",
       "521       200521          0  27.0  Company Invited         3              NaN   \n",
       "4358      204358          0  49.0     Self Enquiry         3              9.0   \n",
       "475       200475          0  26.0     Self Enquiry         3             34.0   \n",
       "\n",
       "          Occupation   Gender  NumberOfPersonVisiting  NumberOfFollowups  \\\n",
       "4019        Salaried   Female                       3                5.0   \n",
       "1365  Large Business     Male                       2                1.0   \n",
       "473         Salaried     Male                       2                4.0   \n",
       "2554  Small Business  Fe Male                       2                5.0   \n",
       "1492        Salaried  Fe Male                       2                3.0   \n",
       "3809  Large Business     Male                       3                2.0   \n",
       "4385  Small Business   Female                       4                4.0   \n",
       "521   Small Business   Female                       3                2.0   \n",
       "4358  Small Business   Female                       3                4.0   \n",
       "475   Small Business     Male                       3                3.0   \n",
       "\n",
       "     ProductPitched  PreferredPropertyStar MaritalStatus  NumberOfTrips  \\\n",
       "4019           King                    3.0       Married            NaN   \n",
       "1365          Basic                    5.0        Single            2.0   \n",
       "473            King                    3.0       Married            2.0   \n",
       "2554       Standard                    5.0     Unmarried            5.0   \n",
       "1492       Standard                    4.0     Unmarried            1.0   \n",
       "3809          Basic                    5.0        Single            3.0   \n",
       "4385         Deluxe                    3.0       Married            5.0   \n",
       "521          Deluxe                    3.0       Married            2.0   \n",
       "4358         Deluxe                    3.0       Married            4.0   \n",
       "475          Deluxe                    4.0      Divorced            2.0   \n",
       "\n",
       "      Passport  PitchSatisfactionScore  OwnCar  NumberOfChildrenVisiting  \\\n",
       "4019         0                       1       0                       2.0   \n",
       "1365         0                       3       1                       1.0   \n",
       "473          1                       3       0                       1.0   \n",
       "2554         0                       2       1                       1.0   \n",
       "1492         0                       5       0                       0.0   \n",
       "3809         0                       3       1                       2.0   \n",
       "4385         0                       3       0                       2.0   \n",
       "521          1                       2       1                       2.0   \n",
       "4358         0                       5       1                       1.0   \n",
       "475          0                       3       1                       0.0   \n",
       "\n",
       "         Designation  MonthlyIncome  \n",
       "4019              VP        37522.0  \n",
       "1365       Executive        16091.0  \n",
       "473               VP        34502.0  \n",
       "2554  Senior Manager        26162.0  \n",
       "1492  Senior Manager        26994.0  \n",
       "3809       Executive        19769.0  \n",
       "4385         Manager        28502.0  \n",
       "521          Manager        19647.0  \n",
       "4358         Manager        22729.0  \n",
       "475          Manager        21272.0  "
      ]
     },
     "execution_count": 5,
     "metadata": {},
     "output_type": "execute_result"
    }
   ],
   "source": [
    "df= data.copy() #making a copy to avoid changes to data\n",
    "print(f\"There are {df.shape[0]} rows and {df.shape[1]} columns.\")\n",
    "#checking the shape of the dataset\n",
    "np.random.seed(15) \n",
    "df.sample(10) #loading random 10 rows"
   ]
  },
  {
   "cell_type": "code",
   "execution_count": 6,
   "metadata": {
    "execution": {
     "iopub.execute_input": "2021-07-13T02:30:35.53246Z",
     "iopub.status.busy": "2021-07-13T02:30:35.532184Z",
     "iopub.status.idle": "2021-07-13T02:30:35.558347Z",
     "shell.execute_reply": "2021-07-13T02:30:35.556595Z",
     "shell.execute_reply.started": "2021-07-13T02:30:35.532432Z"
    }
   },
   "outputs": [
    {
     "name": "stdout",
     "output_type": "stream",
     "text": [
      "<class 'pandas.core.frame.DataFrame'>\n",
      "RangeIndex: 4888 entries, 0 to 4887\n",
      "Data columns (total 20 columns):\n",
      " #   Column                    Non-Null Count  Dtype  \n",
      "---  ------                    --------------  -----  \n",
      " 0   CustomerID                4888 non-null   int64  \n",
      " 1   ProdTaken                 4888 non-null   int64  \n",
      " 2   Age                       4662 non-null   float64\n",
      " 3   TypeofContact             4863 non-null   object \n",
      " 4   CityTier                  4888 non-null   int64  \n",
      " 5   DurationOfPitch           4637 non-null   float64\n",
      " 6   Occupation                4888 non-null   object \n",
      " 7   Gender                    4888 non-null   object \n",
      " 8   NumberOfPersonVisiting    4888 non-null   int64  \n",
      " 9   NumberOfFollowups         4843 non-null   float64\n",
      " 10  ProductPitched            4888 non-null   object \n",
      " 11  PreferredPropertyStar     4862 non-null   float64\n",
      " 12  MaritalStatus             4888 non-null   object \n",
      " 13  NumberOfTrips             4748 non-null   float64\n",
      " 14  Passport                  4888 non-null   int64  \n",
      " 15  PitchSatisfactionScore    4888 non-null   int64  \n",
      " 16  OwnCar                    4888 non-null   int64  \n",
      " 17  NumberOfChildrenVisiting  4822 non-null   float64\n",
      " 18  Designation               4888 non-null   object \n",
      " 19  MonthlyIncome             4655 non-null   float64\n",
      "dtypes: float64(7), int64(7), object(6)\n",
      "memory usage: 763.9+ KB\n"
     ]
    }
   ],
   "source": [
    "df.info() # looking at the structure of the data"
   ]
  },
  {
   "cell_type": "code",
   "execution_count": 7,
   "metadata": {
    "execution": {
     "iopub.execute_input": "2021-07-13T02:30:35.560694Z",
     "iopub.status.busy": "2021-07-13T02:30:35.56032Z",
     "iopub.status.idle": "2021-07-13T02:30:35.579317Z",
     "shell.execute_reply": "2021-07-13T02:30:35.577999Z",
     "shell.execute_reply.started": "2021-07-13T02:30:35.560664Z"
    }
   },
   "outputs": [
    {
     "data": {
      "text/plain": [
       "array([1, 0], dtype=int64)"
      ]
     },
     "execution_count": 7,
     "metadata": {},
     "output_type": "execute_result"
    }
   ],
   "source": [
    "df.ProdTaken.unique()"
   ]
  },
  {
   "cell_type": "markdown",
   "metadata": {},
   "source": [
    "## Data Pre-Processing:\n",
    "\n",
    "\n",
    "## Fixing Datatypes"
   ]
  },
  {
   "cell_type": "code",
   "execution_count": 8,
   "metadata": {
    "execution": {
     "iopub.execute_input": "2021-07-13T02:30:35.580757Z",
     "iopub.status.busy": "2021-07-13T02:30:35.58044Z",
     "iopub.status.idle": "2021-07-13T02:30:35.591521Z",
     "shell.execute_reply": "2021-07-13T02:30:35.590452Z",
     "shell.execute_reply.started": "2021-07-13T02:30:35.580733Z"
    }
   },
   "outputs": [],
   "source": [
    "df.drop(['CustomerID'],axis=1,inplace=True) "
   ]
  },
  {
   "cell_type": "code",
   "execution_count": 9,
   "metadata": {
    "execution": {
     "iopub.execute_input": "2021-07-13T02:30:35.593856Z",
     "iopub.status.busy": "2021-07-13T02:30:35.593623Z",
     "iopub.status.idle": "2021-07-13T02:30:35.650274Z",
     "shell.execute_reply": "2021-07-13T02:30:35.649568Z",
     "shell.execute_reply.started": "2021-07-13T02:30:35.593833Z"
    }
   },
   "outputs": [
    {
     "name": "stdout",
     "output_type": "stream",
     "text": [
      "<class 'pandas.core.frame.DataFrame'>\n",
      "RangeIndex: 4888 entries, 0 to 4887\n",
      "Data columns (total 19 columns):\n",
      " #   Column                    Non-Null Count  Dtype   \n",
      "---  ------                    --------------  -----   \n",
      " 0   ProdTaken                 4888 non-null   category\n",
      " 1   Age                       4662 non-null   float64 \n",
      " 2   TypeofContact             4863 non-null   category\n",
      " 3   CityTier                  4888 non-null   category\n",
      " 4   DurationOfPitch           4637 non-null   float64 \n",
      " 5   Occupation                4888 non-null   category\n",
      " 6   Gender                    4888 non-null   category\n",
      " 7   NumberOfPersonVisiting    4888 non-null   category\n",
      " 8   NumberOfFollowups         4843 non-null   float64 \n",
      " 9   ProductPitched            4888 non-null   category\n",
      " 10  PreferredPropertyStar     4862 non-null   category\n",
      " 11  MaritalStatus             4888 non-null   category\n",
      " 12  NumberOfTrips             4748 non-null   float64 \n",
      " 13  Passport                  4888 non-null   category\n",
      " 14  PitchSatisfactionScore    4888 non-null   category\n",
      " 15  OwnCar                    4888 non-null   category\n",
      " 16  NumberOfChildrenVisiting  4822 non-null   category\n",
      " 17  Designation               4888 non-null   category\n",
      " 18  MonthlyIncome             4655 non-null   float64 \n",
      "dtypes: category(14), float64(5)\n",
      "memory usage: 260.2 KB\n"
     ]
    }
   ],
   "source": [
    "cat_cols = ['CityTier','ProdTaken','NumberOfPersonVisiting','NumberOfChildrenVisiting','PreferredPropertyStar','Passport','PitchSatisfactionScore','OwnCar']\n",
    "df[cat_cols] = df[cat_cols].astype('category')\n",
    "\n",
    "cols = data.select_dtypes(['object']) #selecting all object datatypes and converting to category\n",
    "for i in cols.columns:\n",
    "    df[i] = df[i].astype('category')\n",
    "\n",
    "df.info() #rechecking the dataset    "
   ]
  },
  {
   "cell_type": "markdown",
   "metadata": {},
   "source": [
    "* The datatypes have been fixed and the memory reduced.\n",
    "\n",
    "## Missing Value Treatment:"
   ]
  },
  {
   "cell_type": "code",
   "execution_count": 10,
   "metadata": {
    "execution": {
     "iopub.execute_input": "2021-07-13T02:30:35.651846Z",
     "iopub.status.busy": "2021-07-13T02:30:35.651526Z",
     "iopub.status.idle": "2021-07-13T02:30:35.65964Z",
     "shell.execute_reply": "2021-07-13T02:30:35.659092Z",
     "shell.execute_reply.started": "2021-07-13T02:30:35.651822Z"
    }
   },
   "outputs": [
    {
     "data": {
      "text/plain": [
       "ProdTaken                     0\n",
       "Age                         226\n",
       "TypeofContact                25\n",
       "CityTier                      0\n",
       "DurationOfPitch             251\n",
       "Occupation                    0\n",
       "Gender                        0\n",
       "NumberOfPersonVisiting        0\n",
       "NumberOfFollowups            45\n",
       "ProductPitched                0\n",
       "PreferredPropertyStar        26\n",
       "MaritalStatus                 0\n",
       "NumberOfTrips               140\n",
       "Passport                      0\n",
       "PitchSatisfactionScore        0\n",
       "OwnCar                        0\n",
       "NumberOfChildrenVisiting     66\n",
       "Designation                   0\n",
       "MonthlyIncome               233\n",
       "dtype: int64"
      ]
     },
     "execution_count": 10,
     "metadata": {},
     "output_type": "execute_result"
    }
   ],
   "source": [
    "df.isna().sum()"
   ]
  },
  {
   "cell_type": "code",
   "execution_count": 11,
   "metadata": {
    "execution": {
     "iopub.execute_input": "2021-07-13T02:30:35.660728Z",
     "iopub.status.busy": "2021-07-13T02:30:35.66042Z",
     "iopub.status.idle": "2021-07-13T02:30:35.682361Z",
     "shell.execute_reply": "2021-07-13T02:30:35.680949Z",
     "shell.execute_reply.started": "2021-07-13T02:30:35.660706Z"
    }
   },
   "outputs": [
    {
     "data": {
      "text/plain": [
       "['DurationOfPitch', 'NumberOfFollowups', 'NumberOfTrips']"
      ]
     },
     "execution_count": 11,
     "metadata": {},
     "output_type": "execute_result"
    }
   ],
   "source": [
    "missing_numerical = df.select_dtypes(include=np.number).columns.tolist()\n",
    "missing_numerical.remove('Age')\n",
    "missing_numerical.remove('MonthlyIncome')\n",
    "missing_numerical"
   ]
  },
  {
   "cell_type": "code",
   "execution_count": 12,
   "metadata": {},
   "outputs": [
    {
     "data": {
      "text/html": [
       "<div>\n",
       "<style scoped>\n",
       "    .dataframe tbody tr th:only-of-type {\n",
       "        vertical-align: middle;\n",
       "    }\n",
       "\n",
       "    .dataframe tbody tr th {\n",
       "        vertical-align: top;\n",
       "    }\n",
       "\n",
       "    .dataframe thead th {\n",
       "        text-align: right;\n",
       "    }\n",
       "</style>\n",
       "<table border=\"1\" class=\"dataframe\">\n",
       "  <thead>\n",
       "    <tr style=\"text-align: right;\">\n",
       "      <th></th>\n",
       "      <th>ProdTaken</th>\n",
       "      <th>Age</th>\n",
       "      <th>TypeofContact</th>\n",
       "      <th>CityTier</th>\n",
       "      <th>DurationOfPitch</th>\n",
       "      <th>Occupation</th>\n",
       "      <th>Gender</th>\n",
       "      <th>NumberOfPersonVisiting</th>\n",
       "      <th>NumberOfFollowups</th>\n",
       "      <th>ProductPitched</th>\n",
       "      <th>PreferredPropertyStar</th>\n",
       "      <th>MaritalStatus</th>\n",
       "      <th>NumberOfTrips</th>\n",
       "      <th>Passport</th>\n",
       "      <th>PitchSatisfactionScore</th>\n",
       "      <th>OwnCar</th>\n",
       "      <th>NumberOfChildrenVisiting</th>\n",
       "      <th>Designation</th>\n",
       "      <th>MonthlyIncome</th>\n",
       "    </tr>\n",
       "  </thead>\n",
       "  <tbody>\n",
       "    <tr>\n",
       "      <th>0</th>\n",
       "      <td>1</td>\n",
       "      <td>41.0</td>\n",
       "      <td>Self Enquiry</td>\n",
       "      <td>3</td>\n",
       "      <td>6.0</td>\n",
       "      <td>Salaried</td>\n",
       "      <td>Female</td>\n",
       "      <td>3</td>\n",
       "      <td>3.0</td>\n",
       "      <td>Deluxe</td>\n",
       "      <td>3.0</td>\n",
       "      <td>Single</td>\n",
       "      <td>1.0</td>\n",
       "      <td>1</td>\n",
       "      <td>2</td>\n",
       "      <td>1</td>\n",
       "      <td>0.0</td>\n",
       "      <td>Manager</td>\n",
       "      <td>20993.0</td>\n",
       "    </tr>\n",
       "    <tr>\n",
       "      <th>1</th>\n",
       "      <td>0</td>\n",
       "      <td>49.0</td>\n",
       "      <td>Company Invited</td>\n",
       "      <td>1</td>\n",
       "      <td>14.0</td>\n",
       "      <td>Salaried</td>\n",
       "      <td>Male</td>\n",
       "      <td>3</td>\n",
       "      <td>4.0</td>\n",
       "      <td>Deluxe</td>\n",
       "      <td>4.0</td>\n",
       "      <td>Divorced</td>\n",
       "      <td>2.0</td>\n",
       "      <td>0</td>\n",
       "      <td>3</td>\n",
       "      <td>1</td>\n",
       "      <td>2.0</td>\n",
       "      <td>Manager</td>\n",
       "      <td>20130.0</td>\n",
       "    </tr>\n",
       "    <tr>\n",
       "      <th>2</th>\n",
       "      <td>1</td>\n",
       "      <td>37.0</td>\n",
       "      <td>Self Enquiry</td>\n",
       "      <td>1</td>\n",
       "      <td>8.0</td>\n",
       "      <td>Free Lancer</td>\n",
       "      <td>Male</td>\n",
       "      <td>3</td>\n",
       "      <td>4.0</td>\n",
       "      <td>Basic</td>\n",
       "      <td>3.0</td>\n",
       "      <td>Single</td>\n",
       "      <td>7.0</td>\n",
       "      <td>1</td>\n",
       "      <td>3</td>\n",
       "      <td>0</td>\n",
       "      <td>0.0</td>\n",
       "      <td>Executive</td>\n",
       "      <td>17090.0</td>\n",
       "    </tr>\n",
       "    <tr>\n",
       "      <th>3</th>\n",
       "      <td>0</td>\n",
       "      <td>33.0</td>\n",
       "      <td>Company Invited</td>\n",
       "      <td>1</td>\n",
       "      <td>9.0</td>\n",
       "      <td>Salaried</td>\n",
       "      <td>Female</td>\n",
       "      <td>2</td>\n",
       "      <td>3.0</td>\n",
       "      <td>Basic</td>\n",
       "      <td>3.0</td>\n",
       "      <td>Divorced</td>\n",
       "      <td>2.0</td>\n",
       "      <td>1</td>\n",
       "      <td>5</td>\n",
       "      <td>1</td>\n",
       "      <td>1.0</td>\n",
       "      <td>Executive</td>\n",
       "      <td>17909.0</td>\n",
       "    </tr>\n",
       "    <tr>\n",
       "      <th>4</th>\n",
       "      <td>0</td>\n",
       "      <td>NaN</td>\n",
       "      <td>Self Enquiry</td>\n",
       "      <td>1</td>\n",
       "      <td>8.0</td>\n",
       "      <td>Small Business</td>\n",
       "      <td>Male</td>\n",
       "      <td>2</td>\n",
       "      <td>3.0</td>\n",
       "      <td>Basic</td>\n",
       "      <td>4.0</td>\n",
       "      <td>Divorced</td>\n",
       "      <td>1.0</td>\n",
       "      <td>0</td>\n",
       "      <td>5</td>\n",
       "      <td>1</td>\n",
       "      <td>0.0</td>\n",
       "      <td>Executive</td>\n",
       "      <td>18468.0</td>\n",
       "    </tr>\n",
       "  </tbody>\n",
       "</table>\n",
       "</div>"
      ],
      "text/plain": [
       "  ProdTaken   Age    TypeofContact CityTier  DurationOfPitch      Occupation  \\\n",
       "0         1  41.0     Self Enquiry        3              6.0        Salaried   \n",
       "1         0  49.0  Company Invited        1             14.0        Salaried   \n",
       "2         1  37.0     Self Enquiry        1              8.0     Free Lancer   \n",
       "3         0  33.0  Company Invited        1              9.0        Salaried   \n",
       "4         0   NaN     Self Enquiry        1              8.0  Small Business   \n",
       "\n",
       "   Gender NumberOfPersonVisiting  NumberOfFollowups ProductPitched  \\\n",
       "0  Female                      3                3.0         Deluxe   \n",
       "1    Male                      3                4.0         Deluxe   \n",
       "2    Male                      3                4.0          Basic   \n",
       "3  Female                      2                3.0          Basic   \n",
       "4    Male                      2                3.0          Basic   \n",
       "\n",
       "  PreferredPropertyStar MaritalStatus  NumberOfTrips Passport  \\\n",
       "0                   3.0        Single            1.0        1   \n",
       "1                   4.0      Divorced            2.0        0   \n",
       "2                   3.0        Single            7.0        1   \n",
       "3                   3.0      Divorced            2.0        1   \n",
       "4                   4.0      Divorced            1.0        0   \n",
       "\n",
       "  PitchSatisfactionScore OwnCar NumberOfChildrenVisiting Designation  \\\n",
       "0                      2      1                      0.0     Manager   \n",
       "1                      3      1                      2.0     Manager   \n",
       "2                      3      0                      0.0   Executive   \n",
       "3                      5      1                      1.0   Executive   \n",
       "4                      5      1                      0.0   Executive   \n",
       "\n",
       "   MonthlyIncome  \n",
       "0        20993.0  \n",
       "1        20130.0  \n",
       "2        17090.0  \n",
       "3        17909.0  \n",
       "4        18468.0  "
      ]
     },
     "execution_count": 12,
     "metadata": {},
     "output_type": "execute_result"
    }
   ],
   "source": [
    "df.head()"
   ]
  },
  {
   "cell_type": "code",
   "execution_count": 13,
   "metadata": {
    "execution": {
     "iopub.execute_input": "2021-07-13T02:30:35.684227Z",
     "iopub.status.busy": "2021-07-13T02:30:35.683784Z",
     "iopub.status.idle": "2021-07-13T02:30:35.701251Z",
     "shell.execute_reply": "2021-07-13T02:30:35.700628Z",
     "shell.execute_reply.started": "2021-07-13T02:30:35.684196Z"
    }
   },
   "outputs": [],
   "source": [
    "medianFiller = lambda x: x.fillna(x.median()) #replacing with the Median value of the attributes\n",
    "df[missing_numerical] = df[missing_numerical].apply(medianFiller,axis=0)"
   ]
  },
  {
   "cell_type": "code",
   "execution_count": 14,
   "metadata": {
    "execution": {
     "iopub.execute_input": "2021-07-13T02:30:35.702605Z",
     "iopub.status.busy": "2021-07-13T02:30:35.702275Z",
     "iopub.status.idle": "2021-07-13T02:30:35.72551Z",
     "shell.execute_reply": "2021-07-13T02:30:35.724848Z",
     "shell.execute_reply.started": "2021-07-13T02:30:35.702575Z"
    }
   },
   "outputs": [],
   "source": [
    "#we will replace the missing values with median income w.r.t the customer's designation\n",
    "df[\"MonthlyIncome\"] = df.groupby(['Designation'])['MonthlyIncome'].transform(lambda x: x.fillna(x.median()))\n",
    "df[\"Age\"] = df.groupby(['Designation'])['Age'].transform(lambda x: x.fillna(x.median()))"
   ]
  },
  {
   "cell_type": "code",
   "execution_count": 15,
   "metadata": {},
   "outputs": [
    {
     "data": {
      "text/html": [
       "<div>\n",
       "<style scoped>\n",
       "    .dataframe tbody tr th:only-of-type {\n",
       "        vertical-align: middle;\n",
       "    }\n",
       "\n",
       "    .dataframe tbody tr th {\n",
       "        vertical-align: top;\n",
       "    }\n",
       "\n",
       "    .dataframe thead th {\n",
       "        text-align: right;\n",
       "    }\n",
       "</style>\n",
       "<table border=\"1\" class=\"dataframe\">\n",
       "  <thead>\n",
       "    <tr style=\"text-align: right;\">\n",
       "      <th></th>\n",
       "      <th>ProdTaken</th>\n",
       "      <th>Age</th>\n",
       "      <th>TypeofContact</th>\n",
       "      <th>CityTier</th>\n",
       "      <th>DurationOfPitch</th>\n",
       "      <th>Occupation</th>\n",
       "      <th>Gender</th>\n",
       "      <th>NumberOfPersonVisiting</th>\n",
       "      <th>NumberOfFollowups</th>\n",
       "      <th>ProductPitched</th>\n",
       "      <th>PreferredPropertyStar</th>\n",
       "      <th>MaritalStatus</th>\n",
       "      <th>NumberOfTrips</th>\n",
       "      <th>Passport</th>\n",
       "      <th>PitchSatisfactionScore</th>\n",
       "      <th>OwnCar</th>\n",
       "      <th>NumberOfChildrenVisiting</th>\n",
       "      <th>Designation</th>\n",
       "      <th>MonthlyIncome</th>\n",
       "    </tr>\n",
       "  </thead>\n",
       "  <tbody>\n",
       "    <tr>\n",
       "      <th>4883</th>\n",
       "      <td>1</td>\n",
       "      <td>49.0</td>\n",
       "      <td>Self Enquiry</td>\n",
       "      <td>3</td>\n",
       "      <td>9.0</td>\n",
       "      <td>Small Business</td>\n",
       "      <td>Male</td>\n",
       "      <td>3</td>\n",
       "      <td>5.0</td>\n",
       "      <td>Deluxe</td>\n",
       "      <td>4.0</td>\n",
       "      <td>Unmarried</td>\n",
       "      <td>2.0</td>\n",
       "      <td>1</td>\n",
       "      <td>1</td>\n",
       "      <td>1</td>\n",
       "      <td>1.0</td>\n",
       "      <td>Manager</td>\n",
       "      <td>26576.0</td>\n",
       "    </tr>\n",
       "    <tr>\n",
       "      <th>4884</th>\n",
       "      <td>1</td>\n",
       "      <td>28.0</td>\n",
       "      <td>Company Invited</td>\n",
       "      <td>1</td>\n",
       "      <td>31.0</td>\n",
       "      <td>Salaried</td>\n",
       "      <td>Male</td>\n",
       "      <td>4</td>\n",
       "      <td>5.0</td>\n",
       "      <td>Basic</td>\n",
       "      <td>3.0</td>\n",
       "      <td>Single</td>\n",
       "      <td>3.0</td>\n",
       "      <td>1</td>\n",
       "      <td>3</td>\n",
       "      <td>1</td>\n",
       "      <td>2.0</td>\n",
       "      <td>Executive</td>\n",
       "      <td>21212.0</td>\n",
       "    </tr>\n",
       "    <tr>\n",
       "      <th>4885</th>\n",
       "      <td>1</td>\n",
       "      <td>52.0</td>\n",
       "      <td>Self Enquiry</td>\n",
       "      <td>3</td>\n",
       "      <td>17.0</td>\n",
       "      <td>Salaried</td>\n",
       "      <td>Female</td>\n",
       "      <td>4</td>\n",
       "      <td>4.0</td>\n",
       "      <td>Standard</td>\n",
       "      <td>4.0</td>\n",
       "      <td>Married</td>\n",
       "      <td>7.0</td>\n",
       "      <td>0</td>\n",
       "      <td>1</td>\n",
       "      <td>1</td>\n",
       "      <td>3.0</td>\n",
       "      <td>Senior Manager</td>\n",
       "      <td>31820.0</td>\n",
       "    </tr>\n",
       "    <tr>\n",
       "      <th>4886</th>\n",
       "      <td>1</td>\n",
       "      <td>19.0</td>\n",
       "      <td>Self Enquiry</td>\n",
       "      <td>3</td>\n",
       "      <td>16.0</td>\n",
       "      <td>Small Business</td>\n",
       "      <td>Male</td>\n",
       "      <td>3</td>\n",
       "      <td>4.0</td>\n",
       "      <td>Basic</td>\n",
       "      <td>3.0</td>\n",
       "      <td>Single</td>\n",
       "      <td>3.0</td>\n",
       "      <td>0</td>\n",
       "      <td>5</td>\n",
       "      <td>0</td>\n",
       "      <td>2.0</td>\n",
       "      <td>Executive</td>\n",
       "      <td>20289.0</td>\n",
       "    </tr>\n",
       "    <tr>\n",
       "      <th>4887</th>\n",
       "      <td>1</td>\n",
       "      <td>36.0</td>\n",
       "      <td>Self Enquiry</td>\n",
       "      <td>1</td>\n",
       "      <td>14.0</td>\n",
       "      <td>Salaried</td>\n",
       "      <td>Male</td>\n",
       "      <td>4</td>\n",
       "      <td>4.0</td>\n",
       "      <td>Basic</td>\n",
       "      <td>4.0</td>\n",
       "      <td>Unmarried</td>\n",
       "      <td>3.0</td>\n",
       "      <td>1</td>\n",
       "      <td>3</td>\n",
       "      <td>1</td>\n",
       "      <td>2.0</td>\n",
       "      <td>Executive</td>\n",
       "      <td>24041.0</td>\n",
       "    </tr>\n",
       "  </tbody>\n",
       "</table>\n",
       "</div>"
      ],
      "text/plain": [
       "     ProdTaken   Age    TypeofContact CityTier  DurationOfPitch  \\\n",
       "4883         1  49.0     Self Enquiry        3              9.0   \n",
       "4884         1  28.0  Company Invited        1             31.0   \n",
       "4885         1  52.0     Self Enquiry        3             17.0   \n",
       "4886         1  19.0     Self Enquiry        3             16.0   \n",
       "4887         1  36.0     Self Enquiry        1             14.0   \n",
       "\n",
       "          Occupation  Gender NumberOfPersonVisiting  NumberOfFollowups  \\\n",
       "4883  Small Business    Male                      3                5.0   \n",
       "4884        Salaried    Male                      4                5.0   \n",
       "4885        Salaried  Female                      4                4.0   \n",
       "4886  Small Business    Male                      3                4.0   \n",
       "4887        Salaried    Male                      4                4.0   \n",
       "\n",
       "     ProductPitched PreferredPropertyStar MaritalStatus  NumberOfTrips  \\\n",
       "4883         Deluxe                   4.0     Unmarried            2.0   \n",
       "4884          Basic                   3.0        Single            3.0   \n",
       "4885       Standard                   4.0       Married            7.0   \n",
       "4886          Basic                   3.0        Single            3.0   \n",
       "4887          Basic                   4.0     Unmarried            3.0   \n",
       "\n",
       "     Passport PitchSatisfactionScore OwnCar NumberOfChildrenVisiting  \\\n",
       "4883        1                      1      1                      1.0   \n",
       "4884        1                      3      1                      2.0   \n",
       "4885        0                      1      1                      3.0   \n",
       "4886        0                      5      0                      2.0   \n",
       "4887        1                      3      1                      2.0   \n",
       "\n",
       "         Designation  MonthlyIncome  \n",
       "4883         Manager        26576.0  \n",
       "4884       Executive        21212.0  \n",
       "4885  Senior Manager        31820.0  \n",
       "4886       Executive        20289.0  \n",
       "4887       Executive        24041.0  "
      ]
     },
     "execution_count": 15,
     "metadata": {},
     "output_type": "execute_result"
    }
   ],
   "source": [
    "df.tail()"
   ]
  },
  {
   "cell_type": "markdown",
   "metadata": {},
   "source": [
    "### Summary of Numerical Columns"
   ]
  },
  {
   "cell_type": "code",
   "execution_count": 16,
   "metadata": {
    "execution": {
     "iopub.execute_input": "2021-07-13T02:30:35.727891Z",
     "iopub.status.busy": "2021-07-13T02:30:35.727619Z",
     "iopub.status.idle": "2021-07-13T02:30:35.767989Z",
     "shell.execute_reply": "2021-07-13T02:30:35.767112Z",
     "shell.execute_reply.started": "2021-07-13T02:30:35.727844Z"
    }
   },
   "outputs": [
    {
     "data": {
      "text/html": [
       "<div>\n",
       "<style scoped>\n",
       "    .dataframe tbody tr th:only-of-type {\n",
       "        vertical-align: middle;\n",
       "    }\n",
       "\n",
       "    .dataframe tbody tr th {\n",
       "        vertical-align: top;\n",
       "    }\n",
       "\n",
       "    .dataframe thead th {\n",
       "        text-align: right;\n",
       "    }\n",
       "</style>\n",
       "<table border=\"1\" class=\"dataframe\">\n",
       "  <thead>\n",
       "    <tr style=\"text-align: right;\">\n",
       "      <th></th>\n",
       "      <th>count</th>\n",
       "      <th>mean</th>\n",
       "      <th>std</th>\n",
       "      <th>min</th>\n",
       "      <th>25%</th>\n",
       "      <th>50%</th>\n",
       "      <th>75%</th>\n",
       "      <th>max</th>\n",
       "    </tr>\n",
       "  </thead>\n",
       "  <tbody>\n",
       "    <tr>\n",
       "      <th>Age</th>\n",
       "      <td>4888.0</td>\n",
       "      <td>37.429828</td>\n",
       "      <td>9.149822</td>\n",
       "      <td>18.0</td>\n",
       "      <td>31.0</td>\n",
       "      <td>36.0</td>\n",
       "      <td>43.00</td>\n",
       "      <td>61.0</td>\n",
       "    </tr>\n",
       "    <tr>\n",
       "      <th>DurationOfPitch</th>\n",
       "      <td>4888.0</td>\n",
       "      <td>15.362930</td>\n",
       "      <td>8.316166</td>\n",
       "      <td>5.0</td>\n",
       "      <td>9.0</td>\n",
       "      <td>13.0</td>\n",
       "      <td>19.00</td>\n",
       "      <td>127.0</td>\n",
       "    </tr>\n",
       "    <tr>\n",
       "      <th>NumberOfFollowups</th>\n",
       "      <td>4888.0</td>\n",
       "      <td>3.711129</td>\n",
       "      <td>0.998271</td>\n",
       "      <td>1.0</td>\n",
       "      <td>3.0</td>\n",
       "      <td>4.0</td>\n",
       "      <td>4.00</td>\n",
       "      <td>6.0</td>\n",
       "    </tr>\n",
       "    <tr>\n",
       "      <th>NumberOfTrips</th>\n",
       "      <td>4888.0</td>\n",
       "      <td>3.229746</td>\n",
       "      <td>1.822769</td>\n",
       "      <td>1.0</td>\n",
       "      <td>2.0</td>\n",
       "      <td>3.0</td>\n",
       "      <td>4.00</td>\n",
       "      <td>22.0</td>\n",
       "    </tr>\n",
       "    <tr>\n",
       "      <th>MonthlyIncome</th>\n",
       "      <td>4888.0</td>\n",
       "      <td>23546.843903</td>\n",
       "      <td>5266.279293</td>\n",
       "      <td>1000.0</td>\n",
       "      <td>20485.0</td>\n",
       "      <td>22413.5</td>\n",
       "      <td>25424.75</td>\n",
       "      <td>98678.0</td>\n",
       "    </tr>\n",
       "  </tbody>\n",
       "</table>\n",
       "</div>"
      ],
      "text/plain": [
       "                    count          mean          std     min      25%  \\\n",
       "Age                4888.0     37.429828     9.149822    18.0     31.0   \n",
       "DurationOfPitch    4888.0     15.362930     8.316166     5.0      9.0   \n",
       "NumberOfFollowups  4888.0      3.711129     0.998271     1.0      3.0   \n",
       "NumberOfTrips      4888.0      3.229746     1.822769     1.0      2.0   \n",
       "MonthlyIncome      4888.0  23546.843903  5266.279293  1000.0  20485.0   \n",
       "\n",
       "                       50%       75%      max  \n",
       "Age                   36.0     43.00     61.0  \n",
       "DurationOfPitch       13.0     19.00    127.0  \n",
       "NumberOfFollowups      4.0      4.00      6.0  \n",
       "NumberOfTrips          3.0      4.00     22.0  \n",
       "MonthlyIncome      22413.5  25424.75  98678.0  "
      ]
     },
     "execution_count": 16,
     "metadata": {},
     "output_type": "execute_result"
    }
   ],
   "source": [
    "df.describe().T"
   ]
  },
  {
   "cell_type": "code",
   "execution_count": 17,
   "metadata": {
    "execution": {
     "iopub.execute_input": "2021-07-13T02:30:35.769364Z",
     "iopub.status.busy": "2021-07-13T02:30:35.769086Z",
     "iopub.status.idle": "2021-07-13T02:30:35.812489Z",
     "shell.execute_reply": "2021-07-13T02:30:35.811631Z",
     "shell.execute_reply.started": "2021-07-13T02:30:35.769336Z"
    }
   },
   "outputs": [
    {
     "name": "stdout",
     "output_type": "stream",
     "text": [
      "0    3968\n",
      "1     920\n",
      "Name: ProdTaken, dtype: int64\n",
      "--------------------------------------------------\n",
      "\n",
      "\n",
      "Self Enquiry       3444\n",
      "Company Invited    1419\n",
      "Name: TypeofContact, dtype: int64\n",
      "--------------------------------------------------\n",
      "\n",
      "\n",
      "1    3190\n",
      "3    1500\n",
      "2     198\n",
      "Name: CityTier, dtype: int64\n",
      "--------------------------------------------------\n",
      "\n",
      "\n",
      "Salaried          2368\n",
      "Small Business    2084\n",
      "Large Business     434\n",
      "Free Lancer          2\n",
      "Name: Occupation, dtype: int64\n",
      "--------------------------------------------------\n",
      "\n",
      "\n",
      "Male       2916\n",
      "Female     1817\n",
      "Fe Male     155\n",
      "Name: Gender, dtype: int64\n",
      "--------------------------------------------------\n",
      "\n",
      "\n",
      "3    2402\n",
      "2    1418\n",
      "4    1026\n",
      "1      39\n",
      "5       3\n",
      "Name: NumberOfPersonVisiting, dtype: int64\n",
      "--------------------------------------------------\n",
      "\n",
      "\n",
      "Basic           1842\n",
      "Deluxe          1732\n",
      "Standard         742\n",
      "Super Deluxe     342\n",
      "King             230\n",
      "Name: ProductPitched, dtype: int64\n",
      "--------------------------------------------------\n",
      "\n",
      "\n",
      "3.0    2993\n",
      "5.0     956\n",
      "4.0     913\n",
      "Name: PreferredPropertyStar, dtype: int64\n",
      "--------------------------------------------------\n",
      "\n",
      "\n",
      "Married      2340\n",
      "Divorced      950\n",
      "Single        916\n",
      "Unmarried     682\n",
      "Name: MaritalStatus, dtype: int64\n",
      "--------------------------------------------------\n",
      "\n",
      "\n",
      "0    3466\n",
      "1    1422\n",
      "Name: Passport, dtype: int64\n",
      "--------------------------------------------------\n",
      "\n",
      "\n",
      "3    1478\n",
      "5     970\n",
      "1     942\n",
      "4     912\n",
      "2     586\n",
      "Name: PitchSatisfactionScore, dtype: int64\n",
      "--------------------------------------------------\n",
      "\n",
      "\n",
      "1    3032\n",
      "0    1856\n",
      "Name: OwnCar, dtype: int64\n",
      "--------------------------------------------------\n",
      "\n",
      "\n",
      "1.0    2080\n",
      "2.0    1335\n",
      "0.0    1082\n",
      "3.0     325\n",
      "Name: NumberOfChildrenVisiting, dtype: int64\n",
      "--------------------------------------------------\n",
      "\n",
      "\n",
      "Executive         1842\n",
      "Manager           1732\n",
      "Senior Manager     742\n",
      "AVP                342\n",
      "VP                 230\n",
      "Name: Designation, dtype: int64\n",
      "--------------------------------------------------\n",
      "\n",
      "\n"
     ]
    }
   ],
   "source": [
    "cat_cols =  df.select_dtypes(['category'])\n",
    "for i in cat_cols.columns:\n",
    "    print(cat_cols[i].value_counts())\n",
    "    print('-'*50)\n",
    "    print('\\n')"
   ]
  },
  {
   "cell_type": "markdown",
   "metadata": {},
   "source": [
    "**Observations:**\n",
    "\n",
    "* In the Gender column, we have an error value Fe Male. We will treat this as an data entry issue and replace it to Female.\n",
    "* Self Inquiry is the most preffered in TypeofContact feature.\n",
    "* 3.0 is the highest property rating\n",
    "* And 1.0 is the highest value for the NumberOfChildrenVisiting column.\n",
    "* Hence we will replace the missing values in the above columns accordingly\n"
   ]
  },
  {
   "cell_type": "code",
   "execution_count": 18,
   "metadata": {
    "execution": {
     "iopub.execute_input": "2021-07-13T02:30:35.814141Z",
     "iopub.status.busy": "2021-07-13T02:30:35.813768Z",
     "iopub.status.idle": "2021-07-13T02:30:35.825748Z",
     "shell.execute_reply": "2021-07-13T02:30:35.824345Z",
     "shell.execute_reply.started": "2021-07-13T02:30:35.814103Z"
    }
   },
   "outputs": [],
   "source": [
    "#treating missing values in categorical variables\n",
    "df['TypeofContact'] = df['TypeofContact'].fillna('Self Enquiry')\n",
    "df['NumberOfChildrenVisiting'] = df['NumberOfChildrenVisiting'].fillna(1.0)\n",
    "df['PreferredPropertyStar'] = df['PreferredPropertyStar'].fillna(3.0)\n",
    "\n",
    "df.Gender = df.Gender.replace('Fe Male','Female') #treating error"
   ]
  },
  {
   "cell_type": "code",
   "execution_count": 19,
   "metadata": {
    "execution": {
     "iopub.execute_input": "2021-07-13T02:30:35.82778Z",
     "iopub.status.busy": "2021-07-13T02:30:35.827301Z",
     "iopub.status.idle": "2021-07-13T02:30:35.844752Z",
     "shell.execute_reply": "2021-07-13T02:30:35.843625Z",
     "shell.execute_reply.started": "2021-07-13T02:30:35.827741Z"
    }
   },
   "outputs": [
    {
     "data": {
      "text/plain": [
       "ProdTaken                   0\n",
       "Age                         0\n",
       "TypeofContact               0\n",
       "CityTier                    0\n",
       "DurationOfPitch             0\n",
       "Occupation                  0\n",
       "Gender                      0\n",
       "NumberOfPersonVisiting      0\n",
       "NumberOfFollowups           0\n",
       "ProductPitched              0\n",
       "PreferredPropertyStar       0\n",
       "MaritalStatus               0\n",
       "NumberOfTrips               0\n",
       "Passport                    0\n",
       "PitchSatisfactionScore      0\n",
       "OwnCar                      0\n",
       "NumberOfChildrenVisiting    0\n",
       "Designation                 0\n",
       "MonthlyIncome               0\n",
       "dtype: int64"
      ]
     },
     "execution_count": 19,
     "metadata": {},
     "output_type": "execute_result"
    }
   ],
   "source": [
    "df.isnull().sum()"
   ]
  },
  {
   "cell_type": "markdown",
   "metadata": {},
   "source": [
    "* All missing values are treated\n",
    "\n",
    "### Summary of Categorical Variables"
   ]
  },
  {
   "cell_type": "code",
   "execution_count": 20,
   "metadata": {},
   "outputs": [
    {
     "data": {
      "text/html": [
       "<div>\n",
       "<style scoped>\n",
       "    .dataframe tbody tr th:only-of-type {\n",
       "        vertical-align: middle;\n",
       "    }\n",
       "\n",
       "    .dataframe tbody tr th {\n",
       "        vertical-align: top;\n",
       "    }\n",
       "\n",
       "    .dataframe thead th {\n",
       "        text-align: right;\n",
       "    }\n",
       "</style>\n",
       "<table border=\"1\" class=\"dataframe\">\n",
       "  <thead>\n",
       "    <tr style=\"text-align: right;\">\n",
       "      <th></th>\n",
       "      <th>Age</th>\n",
       "      <th>DurationOfPitch</th>\n",
       "      <th>NumberOfFollowups</th>\n",
       "      <th>NumberOfTrips</th>\n",
       "      <th>MonthlyIncome</th>\n",
       "    </tr>\n",
       "  </thead>\n",
       "  <tbody>\n",
       "    <tr>\n",
       "      <th>count</th>\n",
       "      <td>4888.000000</td>\n",
       "      <td>4888.000000</td>\n",
       "      <td>4888.000000</td>\n",
       "      <td>4888.000000</td>\n",
       "      <td>4888.000000</td>\n",
       "    </tr>\n",
       "    <tr>\n",
       "      <th>mean</th>\n",
       "      <td>37.429828</td>\n",
       "      <td>15.362930</td>\n",
       "      <td>3.711129</td>\n",
       "      <td>3.229746</td>\n",
       "      <td>23546.843903</td>\n",
       "    </tr>\n",
       "    <tr>\n",
       "      <th>std</th>\n",
       "      <td>9.149822</td>\n",
       "      <td>8.316166</td>\n",
       "      <td>0.998271</td>\n",
       "      <td>1.822769</td>\n",
       "      <td>5266.279293</td>\n",
       "    </tr>\n",
       "    <tr>\n",
       "      <th>min</th>\n",
       "      <td>18.000000</td>\n",
       "      <td>5.000000</td>\n",
       "      <td>1.000000</td>\n",
       "      <td>1.000000</td>\n",
       "      <td>1000.000000</td>\n",
       "    </tr>\n",
       "    <tr>\n",
       "      <th>25%</th>\n",
       "      <td>31.000000</td>\n",
       "      <td>9.000000</td>\n",
       "      <td>3.000000</td>\n",
       "      <td>2.000000</td>\n",
       "      <td>20485.000000</td>\n",
       "    </tr>\n",
       "    <tr>\n",
       "      <th>50%</th>\n",
       "      <td>36.000000</td>\n",
       "      <td>13.000000</td>\n",
       "      <td>4.000000</td>\n",
       "      <td>3.000000</td>\n",
       "      <td>22413.500000</td>\n",
       "    </tr>\n",
       "    <tr>\n",
       "      <th>75%</th>\n",
       "      <td>43.000000</td>\n",
       "      <td>19.000000</td>\n",
       "      <td>4.000000</td>\n",
       "      <td>4.000000</td>\n",
       "      <td>25424.750000</td>\n",
       "    </tr>\n",
       "    <tr>\n",
       "      <th>max</th>\n",
       "      <td>61.000000</td>\n",
       "      <td>127.000000</td>\n",
       "      <td>6.000000</td>\n",
       "      <td>22.000000</td>\n",
       "      <td>98678.000000</td>\n",
       "    </tr>\n",
       "  </tbody>\n",
       "</table>\n",
       "</div>"
      ],
      "text/plain": [
       "               Age  DurationOfPitch  NumberOfFollowups  NumberOfTrips  \\\n",
       "count  4888.000000      4888.000000        4888.000000    4888.000000   \n",
       "mean     37.429828        15.362930           3.711129       3.229746   \n",
       "std       9.149822         8.316166           0.998271       1.822769   \n",
       "min      18.000000         5.000000           1.000000       1.000000   \n",
       "25%      31.000000         9.000000           3.000000       2.000000   \n",
       "50%      36.000000        13.000000           4.000000       3.000000   \n",
       "75%      43.000000        19.000000           4.000000       4.000000   \n",
       "max      61.000000       127.000000           6.000000      22.000000   \n",
       "\n",
       "       MonthlyIncome  \n",
       "count    4888.000000  \n",
       "mean    23546.843903  \n",
       "std      5266.279293  \n",
       "min      1000.000000  \n",
       "25%     20485.000000  \n",
       "50%     22413.500000  \n",
       "75%     25424.750000  \n",
       "max     98678.000000  "
      ]
     },
     "execution_count": 20,
     "metadata": {},
     "output_type": "execute_result"
    }
   ],
   "source": [
    "df.describe()"
   ]
  },
  {
   "cell_type": "code",
   "execution_count": 21,
   "metadata": {},
   "outputs": [
    {
     "data": {
      "text/html": [
       "<div>\n",
       "<style scoped>\n",
       "    .dataframe tbody tr th:only-of-type {\n",
       "        vertical-align: middle;\n",
       "    }\n",
       "\n",
       "    .dataframe tbody tr th {\n",
       "        vertical-align: top;\n",
       "    }\n",
       "\n",
       "    .dataframe thead th {\n",
       "        text-align: right;\n",
       "    }\n",
       "</style>\n",
       "<table border=\"1\" class=\"dataframe\">\n",
       "  <thead>\n",
       "    <tr style=\"text-align: right;\">\n",
       "      <th></th>\n",
       "      <th>count</th>\n",
       "      <th>mean</th>\n",
       "      <th>std</th>\n",
       "      <th>min</th>\n",
       "      <th>25%</th>\n",
       "      <th>50%</th>\n",
       "      <th>75%</th>\n",
       "      <th>max</th>\n",
       "    </tr>\n",
       "  </thead>\n",
       "  <tbody>\n",
       "    <tr>\n",
       "      <th>Age</th>\n",
       "      <td>4888.0</td>\n",
       "      <td>37.429828</td>\n",
       "      <td>9.149822</td>\n",
       "      <td>18.0</td>\n",
       "      <td>31.0</td>\n",
       "      <td>36.0</td>\n",
       "      <td>43.00</td>\n",
       "      <td>61.0</td>\n",
       "    </tr>\n",
       "    <tr>\n",
       "      <th>DurationOfPitch</th>\n",
       "      <td>4888.0</td>\n",
       "      <td>15.362930</td>\n",
       "      <td>8.316166</td>\n",
       "      <td>5.0</td>\n",
       "      <td>9.0</td>\n",
       "      <td>13.0</td>\n",
       "      <td>19.00</td>\n",
       "      <td>127.0</td>\n",
       "    </tr>\n",
       "    <tr>\n",
       "      <th>NumberOfFollowups</th>\n",
       "      <td>4888.0</td>\n",
       "      <td>3.711129</td>\n",
       "      <td>0.998271</td>\n",
       "      <td>1.0</td>\n",
       "      <td>3.0</td>\n",
       "      <td>4.0</td>\n",
       "      <td>4.00</td>\n",
       "      <td>6.0</td>\n",
       "    </tr>\n",
       "    <tr>\n",
       "      <th>NumberOfTrips</th>\n",
       "      <td>4888.0</td>\n",
       "      <td>3.229746</td>\n",
       "      <td>1.822769</td>\n",
       "      <td>1.0</td>\n",
       "      <td>2.0</td>\n",
       "      <td>3.0</td>\n",
       "      <td>4.00</td>\n",
       "      <td>22.0</td>\n",
       "    </tr>\n",
       "    <tr>\n",
       "      <th>MonthlyIncome</th>\n",
       "      <td>4888.0</td>\n",
       "      <td>23546.843903</td>\n",
       "      <td>5266.279293</td>\n",
       "      <td>1000.0</td>\n",
       "      <td>20485.0</td>\n",
       "      <td>22413.5</td>\n",
       "      <td>25424.75</td>\n",
       "      <td>98678.0</td>\n",
       "    </tr>\n",
       "  </tbody>\n",
       "</table>\n",
       "</div>"
      ],
      "text/plain": [
       "                    count          mean          std     min      25%  \\\n",
       "Age                4888.0     37.429828     9.149822    18.0     31.0   \n",
       "DurationOfPitch    4888.0     15.362930     8.316166     5.0      9.0   \n",
       "NumberOfFollowups  4888.0      3.711129     0.998271     1.0      3.0   \n",
       "NumberOfTrips      4888.0      3.229746     1.822769     1.0      2.0   \n",
       "MonthlyIncome      4888.0  23546.843903  5266.279293  1000.0  20485.0   \n",
       "\n",
       "                       50%       75%      max  \n",
       "Age                   36.0     43.00     61.0  \n",
       "DurationOfPitch       13.0     19.00    127.0  \n",
       "NumberOfFollowups      4.0      4.00      6.0  \n",
       "NumberOfTrips          3.0      4.00     22.0  \n",
       "MonthlyIncome      22413.5  25424.75  98678.0  "
      ]
     },
     "execution_count": 21,
     "metadata": {},
     "output_type": "execute_result"
    }
   ],
   "source": [
    "df.describe().T         # T for Transposed display"
   ]
  },
  {
   "cell_type": "code",
   "execution_count": 22,
   "metadata": {
    "execution": {
     "iopub.execute_input": "2021-07-13T02:30:35.846939Z",
     "iopub.status.busy": "2021-07-13T02:30:35.846604Z",
     "iopub.status.idle": "2021-07-13T02:30:35.923138Z",
     "shell.execute_reply": "2021-07-13T02:30:35.921924Z",
     "shell.execute_reply.started": "2021-07-13T02:30:35.846909Z"
    }
   },
   "outputs": [
    {
     "data": {
      "text/html": [
       "<div>\n",
       "<style scoped>\n",
       "    .dataframe tbody tr th:only-of-type {\n",
       "        vertical-align: middle;\n",
       "    }\n",
       "\n",
       "    .dataframe tbody tr th {\n",
       "        vertical-align: top;\n",
       "    }\n",
       "\n",
       "    .dataframe thead th {\n",
       "        text-align: right;\n",
       "    }\n",
       "</style>\n",
       "<table border=\"1\" class=\"dataframe\">\n",
       "  <thead>\n",
       "    <tr style=\"text-align: right;\">\n",
       "      <th></th>\n",
       "      <th>count</th>\n",
       "      <th>unique</th>\n",
       "      <th>top</th>\n",
       "      <th>freq</th>\n",
       "    </tr>\n",
       "  </thead>\n",
       "  <tbody>\n",
       "    <tr>\n",
       "      <th>ProdTaken</th>\n",
       "      <td>4888</td>\n",
       "      <td>2</td>\n",
       "      <td>0</td>\n",
       "      <td>3968</td>\n",
       "    </tr>\n",
       "    <tr>\n",
       "      <th>TypeofContact</th>\n",
       "      <td>4888</td>\n",
       "      <td>2</td>\n",
       "      <td>Self Enquiry</td>\n",
       "      <td>3469</td>\n",
       "    </tr>\n",
       "    <tr>\n",
       "      <th>CityTier</th>\n",
       "      <td>4888</td>\n",
       "      <td>3</td>\n",
       "      <td>1</td>\n",
       "      <td>3190</td>\n",
       "    </tr>\n",
       "    <tr>\n",
       "      <th>Occupation</th>\n",
       "      <td>4888</td>\n",
       "      <td>4</td>\n",
       "      <td>Salaried</td>\n",
       "      <td>2368</td>\n",
       "    </tr>\n",
       "    <tr>\n",
       "      <th>Gender</th>\n",
       "      <td>4888</td>\n",
       "      <td>2</td>\n",
       "      <td>Male</td>\n",
       "      <td>2916</td>\n",
       "    </tr>\n",
       "    <tr>\n",
       "      <th>NumberOfPersonVisiting</th>\n",
       "      <td>4888</td>\n",
       "      <td>5</td>\n",
       "      <td>3</td>\n",
       "      <td>2402</td>\n",
       "    </tr>\n",
       "    <tr>\n",
       "      <th>ProductPitched</th>\n",
       "      <td>4888</td>\n",
       "      <td>5</td>\n",
       "      <td>Basic</td>\n",
       "      <td>1842</td>\n",
       "    </tr>\n",
       "    <tr>\n",
       "      <th>PreferredPropertyStar</th>\n",
       "      <td>4888.0</td>\n",
       "      <td>3.0</td>\n",
       "      <td>3.0</td>\n",
       "      <td>3019.0</td>\n",
       "    </tr>\n",
       "    <tr>\n",
       "      <th>MaritalStatus</th>\n",
       "      <td>4888</td>\n",
       "      <td>4</td>\n",
       "      <td>Married</td>\n",
       "      <td>2340</td>\n",
       "    </tr>\n",
       "    <tr>\n",
       "      <th>Passport</th>\n",
       "      <td>4888</td>\n",
       "      <td>2</td>\n",
       "      <td>0</td>\n",
       "      <td>3466</td>\n",
       "    </tr>\n",
       "    <tr>\n",
       "      <th>PitchSatisfactionScore</th>\n",
       "      <td>4888</td>\n",
       "      <td>5</td>\n",
       "      <td>3</td>\n",
       "      <td>1478</td>\n",
       "    </tr>\n",
       "    <tr>\n",
       "      <th>OwnCar</th>\n",
       "      <td>4888</td>\n",
       "      <td>2</td>\n",
       "      <td>1</td>\n",
       "      <td>3032</td>\n",
       "    </tr>\n",
       "    <tr>\n",
       "      <th>NumberOfChildrenVisiting</th>\n",
       "      <td>4888.0</td>\n",
       "      <td>4.0</td>\n",
       "      <td>1.0</td>\n",
       "      <td>2146.0</td>\n",
       "    </tr>\n",
       "    <tr>\n",
       "      <th>Designation</th>\n",
       "      <td>4888</td>\n",
       "      <td>5</td>\n",
       "      <td>Executive</td>\n",
       "      <td>1842</td>\n",
       "    </tr>\n",
       "  </tbody>\n",
       "</table>\n",
       "</div>"
      ],
      "text/plain": [
       "                           count unique           top    freq\n",
       "ProdTaken                   4888      2             0    3968\n",
       "TypeofContact               4888      2  Self Enquiry    3469\n",
       "CityTier                    4888      3             1    3190\n",
       "Occupation                  4888      4      Salaried    2368\n",
       "Gender                      4888      2          Male    2916\n",
       "NumberOfPersonVisiting      4888      5             3    2402\n",
       "ProductPitched              4888      5         Basic    1842\n",
       "PreferredPropertyStar     4888.0    3.0           3.0  3019.0\n",
       "MaritalStatus               4888      4       Married    2340\n",
       "Passport                    4888      2             0    3466\n",
       "PitchSatisfactionScore      4888      5             3    1478\n",
       "OwnCar                      4888      2             1    3032\n",
       "NumberOfChildrenVisiting  4888.0    4.0           1.0  2146.0\n",
       "Designation                 4888      5     Executive    1842"
      ]
     },
     "execution_count": 22,
     "metadata": {},
     "output_type": "execute_result"
    }
   ],
   "source": [
    "df.describe(include=\"category\").T\n",
    "# Duration of pitch meaning time taken for presenting business ideas to another party"
   ]
  },
  {
   "cell_type": "markdown",
   "metadata": {},
   "source": [
    "**Observations:**\n",
    "* Self Inquiry is the most preffered Type of Contact\n",
    "* ProdTaken : There is heavy imbalance in this column where atleast 80% customers did not purchase any product\n",
    "* CityTier : Most customers are from Tier 1\n",
    "* Occupation : Most customers earn a salary\n",
    "* Gender : Male customers are slightly higher than Female Customers\n",
    "* NoOfPersonsVisting: Most customers plan to take atleast 3 additional persons with them in the trip\n",
    "* ProductPitched : Basic is the popular product\n",
    "* MaritalStatus : Most customers are married\n",
    "* Passport : Most customers dont have a passport\n",
    "* PitchSatisfactionScore : Most customers have rated 3.0 \n",
    "* OwnCar: Most customers own a car\n",
    "* NumberofChildrenVisting : Most customers plan to take atleast 1 child under five with them for the trip.\n",
    "* Designation : Most customers belong to Executive designation"
   ]
  },
  {
   "cell_type": "markdown",
   "metadata": {},
   "source": [
    "## Exploratory Data Analysis:\n",
    "\n",
    "### Univariate Analysis - Numerical Columns:"
   ]
  },
  {
   "cell_type": "code",
   "execution_count": 23,
   "metadata": {
    "execution": {
     "iopub.execute_input": "2021-07-13T02:30:35.924592Z",
     "iopub.status.busy": "2021-07-13T02:30:35.924283Z",
     "iopub.status.idle": "2021-07-13T02:30:37.761533Z",
     "shell.execute_reply": "2021-07-13T02:30:37.760532Z",
     "shell.execute_reply.started": "2021-07-13T02:30:35.924563Z"
    }
   },
   "outputs": [
    {
     "data": {
      "image/png": "[encoded data removed]",
      "text/plain": [
       "<Figure size 1224x5400 with 5 Axes>"
      ]
     },
     "metadata": {
      "needs_background": "light"
     },
     "output_type": "display_data"
    }
   ],
   "source": [
    "#Performing Univariate Analysis to study the central tendency and dispersion\n",
    "#Plotting histogram to study distribution\n",
    "Uni_num = df.select_dtypes(include=np.number).columns.tolist()\n",
    "plt.figure(figsize=(17,75))\n",
    "for i in range(len(Uni_num)):     #creating a loop that will show the plots for the columns in one plot\n",
    "    plt.subplot(18,3,i+1)\n",
    "    sns.histplot(df[Uni_num[i]],kde=False)\n",
    "    plt.tight_layout()\n",
    "    plt.title(Uni_num[i],fontsize=25)\n",
    "\n",
    "plt.show()"
   ]
  },
  {
   "cell_type": "code",
   "execution_count": 24,
   "metadata": {
    "execution": {
     "iopub.execute_input": "2021-07-13T02:30:37.762751Z",
     "iopub.status.busy": "2021-07-13T02:30:37.762513Z",
     "iopub.status.idle": "2021-07-13T02:30:38.450978Z",
     "shell.execute_reply": "2021-07-13T02:30:38.450167Z",
     "shell.execute_reply.started": "2021-07-13T02:30:37.762725Z"
    }
   },
   "outputs": [
    {
     "data": {
      "image/png": "[encoded data removed]",
      "text/plain": [
       "<Figure size 1080x2520 with 5 Axes>"
      ]
     },
     "metadata": {
      "needs_background": "light"
     },
     "output_type": "display_data"
    }
   ],
   "source": [
    "plt.figure(figsize=(15,35))\n",
    "for i in range(len(Uni_num)):\n",
    "    plt.subplot(10,3,i+1)\n",
    "    sns.boxplot(df[Uni_num[i]],showmeans=True, color='yellow')\n",
    "    plt.tight_layout()\n",
    "    plt.title(Uni_num[i],fontsize=25)\n",
    "\n",
    "plt.show()"
   ]
  },
  {
   "cell_type": "markdown",
   "metadata": {},
   "source": [
    "**Observations:**\n",
    "\n",
    "* Age variable is almost normally distributed with no outliers. we see that most customers are in the age brackets 30- 45 yrs.\n",
    "* DurationofPitch is slightly right-skewed. We see that most customer's pitch duration was under 20 mins. We also see few outliers at 40 mins and at 120+ mins. \n",
    "* The highest number of followups is 4.0 followed by 3.0. \n",
    "* NumberofTrips is right-skwed a little and majority of the customers seem to take atleast 3 trips per year. We also see very few outliers in the higher end\n",
    "* MonthlyIncome is also right-skewd. However, we see that the majority of customers are between income bracket 20K dollars and 30K dollars. We also see two outliers in the low end and on the highest end. There are several outliers after the approx 35K dollars income level.\n",
    "\n",
    "\n",
    "### Univariate Analysis - Categorical Columns:"
   ]
  },
  {
   "cell_type": "code",
   "execution_count": 25,
   "metadata": {
    "execution": {
     "iopub.execute_input": "2021-07-13T02:30:38.453992Z",
     "iopub.status.busy": "2021-07-13T02:30:38.453715Z",
     "iopub.status.idle": "2021-07-13T02:30:38.466244Z",
     "shell.execute_reply": "2021-07-13T02:30:38.465364Z",
     "shell.execute_reply.started": "2021-07-13T02:30:38.453963Z"
    }
   },
   "outputs": [],
   "source": [
    "categorical_val = df.select_dtypes(exclude=np.number).columns.tolist()"
   ]
  },
  {
   "cell_type": "code",
   "execution_count": 26,
   "metadata": {
    "execution": {
     "iopub.execute_input": "2021-07-13T02:30:38.469371Z",
     "iopub.status.busy": "2021-07-13T02:30:38.469022Z",
     "iopub.status.idle": "2021-07-13T02:30:41.324455Z",
     "shell.execute_reply": "2021-07-13T02:30:41.323311Z",
     "shell.execute_reply.started": "2021-07-13T02:30:38.469341Z"
    }
   },
   "outputs": [
    {
     "data": {
      "image/png": "[encoded data removed]",
      "text/plain": [
       "<Figure size 1080x5400 with 14 Axes>"
      ]
     },
     "metadata": {
      "needs_background": "light"
     },
     "output_type": "display_data"
    }
   ],
   "source": [
    "plt.figure(figsize=(15,75))\n",
    "for i in range(len(categorical_val)):     #creating a loop that will show the plots for the columns in one plot\n",
    "    plt.subplot(18,3,i+1)\n",
    "    ax=sns.countplot(df[categorical_val[i]],palette='Spectral')\n",
    "    plt.tight_layout()\n",
    "    plt.title(categorical_val[i],fontsize=25)\n",
    "    total = len (df[categorical_val[i]])\n",
    "    for p in ax.patches:\n",
    "        percentage = '{:.1f}%'.format(100 * p.get_height()/total) # percentage of each class of the category\n",
    "        x = p.get_x() + (p.get_width() / 2)-0.1  # width of the plot\n",
    "        y = p.get_y() + p.get_height()           # hieght of the plot\n",
    "        ax.annotate(percentage, (x, y), size = 12.5,color='black') # To annonate\n",
    "plt.xticks(rotation=90)\n",
    "plt.show()"
   ]
  },
  {
   "cell_type": "markdown",
   "metadata": {},
   "source": [
    "**Observations:**\n",
    "* ProdTaken is the dependent variable. We that only 18.8% of the total customers purchased any of the travel package.The plot shows heavy imbalance in the dataset\n",
    "\n",
    "* Self-Enquiry is the most preffered contact method by the customers at 71%\n",
    "\n",
    "* 65.3% of customers are from Tier 1 cities and Tier3 cities comes second at 30.7%. \n",
    "\n",
    "* 48.4% of customers are Salaried, i.e work for an organization and customers with Small Business are the next highest in Occupation at 42.6%. \n",
    "\n",
    "* Male customers(59.7%) are higher than Female customers (40.3%)\n",
    "\n",
    "* 49.1% of customers plan to take atleast 3 persons with them during trip. Around 29% customers want to take 2 people and 21% customers want to take 4 additional persons with them during their travel\n",
    "\n",
    "* Basic(37.7%) and Deluxe(35.4%) are the most popular travel packages. The next slightly popular one is the Standard Travel package at 15.2%\n",
    "\n",
    "* 61.8% customers prefer a three star hotel rating compared to four (18.7%) and five (19.6%) star rating hotels\n",
    "\n",
    "* Married customers form the bulk of the data at 47.9% with Divorced (19.4%) and Single (18.7%) coming in close second and Unmarried(with partners) customers form 14% of the data\n",
    "\n",
    "* Only 29.1% of customers have a passport and almost 62% of customers own a car\n",
    "\n",
    "* Only 30.2% of customers rated the Sales Pitch with a score of 3. Even though 18.7% customers rated at 4 and 19.8% rated a pitch score of 5, we also see that 19.3% rated the Sales pitch score at 1. This shows a need for improvement in this area\n",
    "\n",
    "* Around 43.9% of customers have atleast one child under age Five, planning to accompany them in the travels\n",
    "\n",
    "* Executive (37.7%) and Manager(35.4%) are the highest Designations of the customers in the dataset"
   ]
  },
  {
   "cell_type": "markdown",
   "metadata": {},
   "source": [
    "## Correlation Matrix"
   ]
  },
  {
   "cell_type": "code",
   "execution_count": 27,
   "metadata": {
    "execution": {
     "iopub.execute_input": "2021-07-13T02:30:41.325962Z",
     "iopub.status.busy": "2021-07-13T02:30:41.32567Z",
     "iopub.status.idle": "2021-07-13T02:30:41.64351Z",
     "shell.execute_reply": "2021-07-13T02:30:41.642885Z",
     "shell.execute_reply.started": "2021-07-13T02:30:41.325933Z"
    }
   },
   "outputs": [
    {
     "data": {
      "image/png": "[encoded data removed]",
      "text/plain": [
       "<Figure size 720x504 with 2 Axes>"
      ]
     },
     "metadata": {
      "needs_background": "light"
     },
     "output_type": "display_data"
    }
   ],
   "source": [
    "corr= df.corr()\n",
    "plt.figure(figsize=(10,7))\n",
    "sns.heatmap(corr,annot= True,vmin=0,vmax=0.7, cmap='RdYlGn_r',linewidths=0.75)\n",
    "plt.show()"
   ]
  },
  {
   "cell_type": "markdown",
   "metadata": {},
   "source": [
    "**Observations:**\n",
    "* The correlation values are quite low between all the variables.\n",
    "* Only Age and DurationofPitch have a very low negative correlation.\n",
    "* MonthlyIncome and Age have the highest positive correlation at 0.47; i.e as Age increases, so does MontlyIncome\n",
    "* NumberofFollowups and NumberofTrips have a  moderate positive correlation between them and also individually with Monthly Income.\n",
    "\n",
    "## Bivariate Analysis:\n",
    "* Let's analyse the dependent variable with all the numerical and categorical features and investigate possible relationships"
   ]
  },
  {
   "cell_type": "code",
   "execution_count": 28,
   "metadata": {
    "execution": {
     "iopub.execute_input": "2021-07-13T02:30:41.645095Z",
     "iopub.status.busy": "2021-07-13T02:30:41.644645Z",
     "iopub.status.idle": "2021-07-13T02:30:42.297982Z",
     "shell.execute_reply": "2021-07-13T02:30:42.29713Z",
     "shell.execute_reply.started": "2021-07-13T02:30:41.645062Z"
    }
   },
   "outputs": [
    {
     "data": {
      "image/png": "[encoded data removed]",
      "text/plain": [
       "<Figure size 1080x720 with 5 Axes>"
      ]
     },
     "metadata": {
      "needs_background": "light"
     },
     "output_type": "display_data"
    }
   ],
   "source": [
    "# For all numerical variables with Personal_Loan\n",
    "plt.figure(figsize=(15,10))\n",
    "for i, variable in enumerate(Uni_num):\n",
    "                     plt.subplot(3,2,i+1)\n",
    "                     sns.boxplot(df['ProdTaken'],df[variable],palette=\"Set1\")\n",
    "                     plt.tight_layout()\n",
    "                     plt.title(variable)\n",
    "plt.show()"
   ]
  },
  {
   "cell_type": "markdown",
   "metadata": {},
   "source": [
    "**Observations:**\n",
    "* The mean Age for customers who purchased any Product is slightly less than those who didnt. We also see that Age variable doesnt have any outliers. \n",
    "* The mean DurationofPitch for both classed of ProdTaken is almost equal. We see there are many outliers in Class '0' of ProdTaken, suggesting that longer pitch durations doesnt lead to product purchase.\n",
    "* Interestingly, Customers who purchased the packages had an average of atleast four followups, compared to customers who didnt.\n",
    "* The Averages for  NumberofTrips and MonthlyIncome;for both Classes of ProdTaken is almost equal. MonthlyIncome variable has several outliers in the higher end for both ProdTaken classes and very few in low end of Class '0'.\n"
   ]
  },
  {
   "cell_type": "code",
   "execution_count": 29,
   "metadata": {
    "execution": {
     "iopub.execute_input": "2021-07-13T02:30:42.299546Z",
     "iopub.status.busy": "2021-07-13T02:30:42.29926Z",
     "iopub.status.idle": "2021-07-13T02:30:42.305981Z",
     "shell.execute_reply": "2021-07-13T02:30:42.305099Z",
     "shell.execute_reply.started": "2021-07-13T02:30:42.299516Z"
    }
   },
   "outputs": [],
   "source": [
    "#Stacked plot of categorical variables with Personal Loans\n",
    "def stacked_plot(x):\n",
    "    sns.set(palette='Dark2')\n",
    "    tab1 = pd.crosstab(x,df['ProdTaken'],margins=True)\n",
    "    print(tab1)\n",
    "    print('-'*120)\n",
    "    tab = pd.crosstab(x,df['ProdTaken'],normalize='index')\n",
    "    tab.plot(kind='bar',stacked=True,figsize=(10,5))\n",
    "    plt.legend(loc='lower left', frameon=True)\n",
    "    plt.legend(loc=\"upper left\", bbox_to_anchor=(1,1))\n",
    "    plt.ylabel('Percentage')\n",
    "    plt.show()"
   ]
  },
  {
   "cell_type": "code",
   "execution_count": 30,
   "metadata": {
    "execution": {
     "iopub.execute_input": "2021-07-13T02:30:42.307653Z",
     "iopub.status.busy": "2021-07-13T02:30:42.307376Z",
     "iopub.status.idle": "2021-07-13T02:30:42.583004Z",
     "shell.execute_reply": "2021-07-13T02:30:42.581947Z",
     "shell.execute_reply.started": "2021-07-13T02:30:42.307625Z"
    }
   },
   "outputs": [
    {
     "name": "stdout",
     "output_type": "stream",
     "text": [
      "ProdTaken           0    1   All\n",
      "TypeofContact                   \n",
      "Company Invited  1109  310  1419\n",
      "Self Enquiry     2859  610  3469\n",
      "All              3968  920  4888\n",
      "------------------------------------------------------------------------------------------------------------------------\n"
     ]
    },
    {
     "data": {
      "image/png": "[encoded data removed]",
      "text/plain": [
       "<Figure size 720x360 with 1 Axes>"
      ]
     },
     "metadata": {},
     "output_type": "display_data"
    }
   ],
   "source": [
    "stacked_plot(df.TypeofContact)"
   ]
  },
  {
   "cell_type": "markdown",
   "metadata": {},
   "source": [
    "* More Customers with CompanyInvited contact have bought Travel Packages"
   ]
  },
  {
   "cell_type": "code",
   "execution_count": 31,
   "metadata": {
    "execution": {
     "iopub.execute_input": "2021-07-13T02:30:42.586371Z",
     "iopub.status.busy": "2021-07-13T02:30:42.586132Z",
     "iopub.status.idle": "2021-07-13T02:30:42.827438Z",
     "shell.execute_reply": "2021-07-13T02:30:42.826334Z",
     "shell.execute_reply.started": "2021-07-13T02:30:42.586347Z"
    }
   },
   "outputs": [
    {
     "name": "stdout",
     "output_type": "stream",
     "text": [
      "ProdTaken     0    1   All\n",
      "CityTier                  \n",
      "1          2670  520  3190\n",
      "2           152   46   198\n",
      "3          1146  354  1500\n",
      "All        3968  920  4888\n",
      "------------------------------------------------------------------------------------------------------------------------\n"
     ]
    },
    {
     "data": {
      "image/png": "[encoded data removed]",
      "text/plain": [
       "<Figure size 720x360 with 1 Axes>"
      ]
     },
     "metadata": {},
     "output_type": "display_data"
    }
   ],
   "source": [
    "stacked_plot(df.CityTier)"
   ]
  },
  {
   "cell_type": "markdown",
   "metadata": {},
   "source": [
    "* More Customers from Tier2 and Tier3 cities have purchased Travel Packages"
   ]
  },
  {
   "cell_type": "code",
   "execution_count": 32,
   "metadata": {
    "execution": {
     "iopub.execute_input": "2021-07-13T02:30:42.828971Z",
     "iopub.status.busy": "2021-07-13T02:30:42.828614Z",
     "iopub.status.idle": "2021-07-13T02:30:43.042621Z",
     "shell.execute_reply": "2021-07-13T02:30:43.041469Z",
     "shell.execute_reply.started": "2021-07-13T02:30:42.828937Z"
    }
   },
   "outputs": [
    {
     "name": "stdout",
     "output_type": "stream",
     "text": [
      "ProdTaken          0    1   All\n",
      "Occupation                     \n",
      "Free Lancer        0    2     2\n",
      "Large Business   314  120   434\n",
      "Salaried        1954  414  2368\n",
      "Small Business  1700  384  2084\n",
      "All             3968  920  4888\n",
      "------------------------------------------------------------------------------------------------------------------------\n"
     ]
    },
    {
     "data": {
      "image/png": "[encoded data removed]",
      "text/plain": [
       "<Figure size 720x360 with 1 Axes>"
      ]
     },
     "metadata": {},
     "output_type": "display_data"
    }
   ],
   "source": [
    "stacked_plot(df.Occupation)"
   ]
  },
  {
   "cell_type": "markdown",
   "metadata": {},
   "source": [
    "* Though customers who are  Freelancers by Occupation have bought travel packages, the sample size is only two. \n",
    "* Of the 434 Large Business owning customers, almost 30% bought travel packages. \n",
    "* Among Salaried and Small Business owning customers,close to 20% have bought travel packages"
   ]
  },
  {
   "cell_type": "code",
   "execution_count": 33,
   "metadata": {
    "execution": {
     "iopub.execute_input": "2021-07-13T02:30:43.044586Z",
     "iopub.status.busy": "2021-07-13T02:30:43.044185Z",
     "iopub.status.idle": "2021-07-13T02:30:43.269589Z",
     "shell.execute_reply": "2021-07-13T02:30:43.268781Z",
     "shell.execute_reply.started": "2021-07-13T02:30:43.04455Z"
    }
   },
   "outputs": [
    {
     "name": "stdout",
     "output_type": "stream",
     "text": [
      "ProdTaken     0    1   All\n",
      "Gender                    \n",
      "Female     1630  342  1972\n",
      "Male       2338  578  2916\n",
      "All        3968  920  4888\n",
      "------------------------------------------------------------------------------------------------------------------------\n"
     ]
    },
    {
     "data": {
      "image/png": "[encoded data removed]",
      "text/plain": [
       "<Figure size 720x360 with 1 Axes>"
      ]
     },
     "metadata": {},
     "output_type": "display_data"
    }
   ],
   "source": [
    "stacked_plot(df.Gender)"
   ]
  },
  {
   "cell_type": "markdown",
   "metadata": {},
   "source": [
    "* Despite Male customers being significantly higher than Female customer, the percentage of those who bought travel packages is almost the same(or with minimum difference).  "
   ]
  },
  {
   "cell_type": "code",
   "execution_count": 34,
   "metadata": {
    "execution": {
     "iopub.execute_input": "2021-07-13T02:30:43.272057Z",
     "iopub.status.busy": "2021-07-13T02:30:43.271701Z",
     "iopub.status.idle": "2021-07-13T02:30:43.475079Z",
     "shell.execute_reply": "2021-07-13T02:30:43.474507Z",
     "shell.execute_reply.started": "2021-07-13T02:30:43.272025Z"
    }
   },
   "outputs": [
    {
     "name": "stdout",
     "output_type": "stream",
     "text": [
      "ProdTaken                  0    1   All\n",
      "NumberOfPersonVisiting                 \n",
      "1                         39    0    39\n",
      "2                       1151  267  1418\n",
      "3                       1942  460  2402\n",
      "4                        833  193  1026\n",
      "5                          3    0     3\n",
      "All                     3968  920  4888\n",
      "------------------------------------------------------------------------------------------------------------------------\n"
     ]
    },
    {
     "data": {
      "image/png": "[encoded data removed]",
      "text/plain": [
       "<Figure size 720x360 with 1 Axes>"
      ]
     },
     "metadata": {},
     "output_type": "display_data"
    }
   ],
   "source": [
    "stacked_plot(df.NumberOfPersonVisiting)"
   ]
  },
  {
   "cell_type": "markdown",
   "metadata": {},
   "source": [
    "* Among Customers who plan to take between 2-4 persons with them during travel, close to 20%  have bought a travel package product.\n",
    "* Interestingly, we see that all Customers with one companion and five comapanions, did not purchase any product. \n",
    "* This suugests that the products dont seem either appealing or beneficial to the customers of the above two categories. This area needs further investigation"
   ]
  },
  {
   "cell_type": "code",
   "execution_count": 35,
   "metadata": {
    "execution": {
     "iopub.execute_input": "2021-07-13T02:30:43.47725Z",
     "iopub.status.busy": "2021-07-13T02:30:43.476847Z",
     "iopub.status.idle": "2021-07-13T02:30:43.731882Z",
     "shell.execute_reply": "2021-07-13T02:30:43.731059Z",
     "shell.execute_reply.started": "2021-07-13T02:30:43.477211Z"
    }
   },
   "outputs": [
    {
     "name": "stdout",
     "output_type": "stream",
     "text": [
      "ProdTaken          0    1   All\n",
      "ProductPitched                 \n",
      "Basic           1290  552  1842\n",
      "Deluxe          1528  204  1732\n",
      "King             210   20   230\n",
      "Standard         618  124   742\n",
      "Super Deluxe     322   20   342\n",
      "All             3968  920  4888\n",
      "------------------------------------------------------------------------------------------------------------------------\n"
     ]
    },
    {
     "data": {
      "image/png": "[encoded data removed]",
      "text/plain": [
       "<Figure size 720x360 with 1 Axes>"
      ]
     },
     "metadata": {},
     "output_type": "display_data"
    }
   ],
   "source": [
    "stacked_plot(df.ProductPitched)"
   ]
  },
  {
   "cell_type": "markdown",
   "metadata": {},
   "source": [
    "* The Basic Package is the most preffered, with Standard and Deluxe following up.\n",
    "* Comparitively very few customers purchased Super Deluxe products"
   ]
  },
  {
   "cell_type": "code",
   "execution_count": 36,
   "metadata": {
    "execution": {
     "iopub.execute_input": "2021-07-13T02:30:43.733761Z",
     "iopub.status.busy": "2021-07-13T02:30:43.733529Z",
     "iopub.status.idle": "2021-07-13T02:30:43.924579Z",
     "shell.execute_reply": "2021-07-13T02:30:43.923538Z",
     "shell.execute_reply.started": "2021-07-13T02:30:43.733736Z"
    }
   },
   "outputs": [
    {
     "name": "stdout",
     "output_type": "stream",
     "text": [
      "ProdTaken                 0    1   All\n",
      "PreferredPropertyStar                 \n",
      "3.0                    2531  488  3019\n",
      "4.0                     731  182   913\n",
      "5.0                     706  250   956\n",
      "All                    3968  920  4888\n",
      "------------------------------------------------------------------------------------------------------------------------\n"
     ]
    },
    {
     "data": {
      "image/png": "[encoded data removed]",
      "text/plain": [
       "<Figure size 720x360 with 1 Axes>"
      ]
     },
     "metadata": {},
     "output_type": "display_data"
    }
   ],
   "source": [
    "stacked_plot(df.PreferredPropertyStar)"
   ]
  },
  {
   "cell_type": "markdown",
   "metadata": {},
   "source": [
    "* Though majority of customers prefer a 3.0 star rated Property, the percentage of customers purchasing the products is comparitively less than customers who prefer a 4.0 and 5.0 star rated property. \n",
    "* The higher the proprety star rating, higher the number of customers who purchased a product"
   ]
  },
  {
   "cell_type": "code",
   "execution_count": 37,
   "metadata": {
    "execution": {
     "iopub.execute_input": "2021-07-13T02:30:43.92578Z",
     "iopub.status.busy": "2021-07-13T02:30:43.925571Z",
     "iopub.status.idle": "2021-07-13T02:30:44.316188Z",
     "shell.execute_reply": "2021-07-13T02:30:44.3154Z",
     "shell.execute_reply.started": "2021-07-13T02:30:43.925756Z"
    }
   },
   "outputs": [
    {
     "name": "stdout",
     "output_type": "stream",
     "text": [
      "ProdTaken         0    1   All\n",
      "MaritalStatus                 \n",
      "Divorced        826  124   950\n",
      "Married        2014  326  2340\n",
      "Single          612  304   916\n",
      "Unmarried       516  166   682\n",
      "All            3968  920  4888\n",
      "------------------------------------------------------------------------------------------------------------------------\n"
     ]
    },
    {
     "data": {
      "image/png": "[encoded data removed]",
      "text/plain": [
       "<Figure size 720x360 with 1 Axes>"
      ]
     },
     "metadata": {},
     "output_type": "display_data"
    }
   ],
   "source": [
    "stacked_plot(df.MaritalStatus)"
   ]
  },
  {
   "cell_type": "markdown",
   "metadata": {},
   "source": [
    "* Around 30% of all Single customers have bought a product and about 25% of Unmarried customers have also purchased a product\n",
    "* Almost 50% of the total customers belong to the married category, but we see that only approx 15% of them have actually purchased any product. "
   ]
  },
  {
   "cell_type": "code",
   "execution_count": 38,
   "metadata": {
    "execution": {
     "iopub.execute_input": "2021-07-13T02:30:44.317611Z",
     "iopub.status.busy": "2021-07-13T02:30:44.317359Z",
     "iopub.status.idle": "2021-07-13T02:30:44.497392Z",
     "shell.execute_reply": "2021-07-13T02:30:44.496278Z",
     "shell.execute_reply.started": "2021-07-13T02:30:44.317587Z"
    }
   },
   "outputs": [
    {
     "name": "stdout",
     "output_type": "stream",
     "text": [
      "ProdTaken     0    1   All\n",
      "Passport                  \n",
      "0          3040  426  3466\n",
      "1           928  494  1422\n",
      "All        3968  920  4888\n",
      "------------------------------------------------------------------------------------------------------------------------\n"
     ]
    },
    {
     "data": {
      "image/png": "[encoded data removed]",
      "text/plain": [
       "<Figure size 720x360 with 1 Axes>"
      ]
     },
     "metadata": {},
     "output_type": "display_data"
    }
   ],
   "source": [
    "stacked_plot(df.Passport)"
   ]
  },
  {
   "cell_type": "markdown",
   "metadata": {},
   "source": [
    "* More customers with passport tend to purchase products than those who dont."
   ]
  },
  {
   "cell_type": "code",
   "execution_count": 39,
   "metadata": {
    "execution": {
     "iopub.execute_input": "2021-07-13T02:30:44.499269Z",
     "iopub.status.busy": "2021-07-13T02:30:44.498915Z",
     "iopub.status.idle": "2021-07-13T02:30:44.760768Z",
     "shell.execute_reply": "2021-07-13T02:30:44.75994Z",
     "shell.execute_reply.started": "2021-07-13T02:30:44.499239Z"
    }
   },
   "outputs": [
    {
     "name": "stdout",
     "output_type": "stream",
     "text": [
      "ProdTaken                  0    1   All\n",
      "PitchSatisfactionScore                 \n",
      "1                        798  144   942\n",
      "2                        498   88   586\n",
      "3                       1162  316  1478\n",
      "4                        750  162   912\n",
      "5                        760  210   970\n",
      "All                     3968  920  4888\n",
      "------------------------------------------------------------------------------------------------------------------------\n"
     ]
    },
    {
     "data": {
      "image/png": "[encoded data removed]",
      "text/plain": [
       "<Figure size 720x360 with 1 Axes>"
      ]
     },
     "metadata": {},
     "output_type": "display_data"
    }
   ],
   "source": [
    "stacked_plot(df.PitchSatisfactionScore)"
   ]
  },
  {
   "cell_type": "markdown",
   "metadata": {},
   "source": [
    "* Majority of customers have given a score of 3.0 to the Sale pitch for the products.\n",
    "* But we observe that the number of customers who purchased any product is almost equal across all pitch scores. \n",
    "* This suggests that a high product pitch score doesnt guarantee purchase "
   ]
  },
  {
   "cell_type": "code",
   "execution_count": 40,
   "metadata": {
    "execution": {
     "iopub.execute_input": "2021-07-13T02:30:44.762994Z",
     "iopub.status.busy": "2021-07-13T02:30:44.762637Z",
     "iopub.status.idle": "2021-07-13T02:30:44.983766Z",
     "shell.execute_reply": "2021-07-13T02:30:44.98288Z",
     "shell.execute_reply.started": "2021-07-13T02:30:44.762963Z"
    }
   },
   "outputs": [
    {
     "name": "stdout",
     "output_type": "stream",
     "text": [
      "ProdTaken     0    1   All\n",
      "OwnCar                    \n",
      "0          1496  360  1856\n",
      "1          2472  560  3032\n",
      "All        3968  920  4888\n",
      "------------------------------------------------------------------------------------------------------------------------\n"
     ]
    },
    {
     "data": {
      "image/png": "[encoded data removed]",
      "text/plain": [
       "<Figure size 720x360 with 1 Axes>"
      ]
     },
     "metadata": {},
     "output_type": "display_data"
    }
   ],
   "source": [
    "stacked_plot(df.OwnCar)"
   ]
  },
  {
   "cell_type": "markdown",
   "metadata": {},
   "source": [
    "* The number of customers who bought a product is fairly equal across both classes of OwnCar"
   ]
  },
  {
   "cell_type": "code",
   "execution_count": 41,
   "metadata": {
    "execution": {
     "iopub.execute_input": "2021-07-13T02:30:44.985217Z",
     "iopub.status.busy": "2021-07-13T02:30:44.984976Z",
     "iopub.status.idle": "2021-07-13T02:30:45.226184Z",
     "shell.execute_reply": "2021-07-13T02:30:45.225631Z",
     "shell.execute_reply.started": "2021-07-13T02:30:44.98519Z"
    }
   },
   "outputs": [
    {
     "name": "stdout",
     "output_type": "stream",
     "text": [
      "ProdTaken                    0    1   All\n",
      "NumberOfChildrenVisiting                 \n",
      "0.0                        880  202  1082\n",
      "1.0                       1747  399  2146\n",
      "2.0                       1082  253  1335\n",
      "3.0                        259   66   325\n",
      "All                       3968  920  4888\n",
      "------------------------------------------------------------------------------------------------------------------------\n"
     ]
    },
    {
     "data": {
      "image/png": "[encoded data removed]",
      "text/plain": [
       "<Figure size 720x360 with 1 Axes>"
      ]
     },
     "metadata": {},
     "output_type": "display_data"
    }
   ],
   "source": [
    "stacked_plot(df.NumberOfChildrenVisiting)"
   ]
  },
  {
   "cell_type": "markdown",
   "metadata": {},
   "source": [
    "* We see that the percentage of customes who purchased a product is fairly same across all categories of variable NumberOfChildrenVisiting."
   ]
  },
  {
   "cell_type": "code",
   "execution_count": 42,
   "metadata": {
    "execution": {
     "iopub.execute_input": "2021-07-13T02:30:45.227193Z",
     "iopub.status.busy": "2021-07-13T02:30:45.226941Z",
     "iopub.status.idle": "2021-07-13T02:30:45.437672Z",
     "shell.execute_reply": "2021-07-13T02:30:45.436662Z",
     "shell.execute_reply.started": "2021-07-13T02:30:45.227168Z"
    }
   },
   "outputs": [
    {
     "name": "stdout",
     "output_type": "stream",
     "text": [
      "ProdTaken          0    1   All\n",
      "Designation                    \n",
      "AVP              322   20   342\n",
      "Executive       1290  552  1842\n",
      "Manager         1528  204  1732\n",
      "Senior Manager   618  124   742\n",
      "VP               210   20   230\n",
      "All             3968  920  4888\n",
      "------------------------------------------------------------------------------------------------------------------------\n"
     ]
    },
    {
     "data": {
      "image/png": "[encoded data removed]",
      "text/plain": [
       "<Figure size 720x360 with 1 Axes>"
      ]
     },
     "metadata": {},
     "output_type": "display_data"
    }
   ],
   "source": [
    "stacked_plot(df.Designation)"
   ]
  },
  {
   "cell_type": "markdown",
   "metadata": {},
   "source": [
    "* Around  30% Customers with Executive Designation have purchased a product \n",
    "* Sr. Manager(16%) and Manager(~11%) Designation customers have purchased a product. \n",
    "* Very few customers of VP and AVP Designation have purchased a product. "
   ]
  },
  {
   "cell_type": "markdown",
   "metadata": {},
   "source": [
    "## Outliers Detection and Treatment : "
   ]
  },
  {
   "cell_type": "code",
   "execution_count": 43,
   "metadata": {
    "execution": {
     "iopub.execute_input": "2021-07-13T02:30:45.439399Z",
     "iopub.status.busy": "2021-07-13T02:30:45.439085Z",
     "iopub.status.idle": "2021-07-13T02:30:45.445905Z",
     "shell.execute_reply": "2021-07-13T02:30:45.444569Z",
     "shell.execute_reply.started": "2021-07-13T02:30:45.439362Z"
    }
   },
   "outputs": [],
   "source": [
    "#Let's find the percentage of outliers using IQR"
   ]
  },
  {
   "cell_type": "code",
   "execution_count": 44,
   "metadata": {
    "execution": {
     "iopub.execute_input": "2021-07-13T02:30:45.447426Z",
     "iopub.status.busy": "2021-07-13T02:30:45.447137Z",
     "iopub.status.idle": "2021-07-13T02:30:45.463073Z",
     "shell.execute_reply": "2021-07-13T02:30:45.462268Z",
     "shell.execute_reply.started": "2021-07-13T02:30:45.4474Z"
    }
   },
   "outputs": [],
   "source": [
    "Q1 = data.quantile(0.25)             #To find the 25th percentile and 75th percentile.\n",
    "Q3 = data.quantile(0.75)\n",
    "\n",
    "IQR = Q3 - Q1                           #Inter Quantile Range (75th perentile - 25th percentile)\n",
    "\n",
    "lower=Q1-1.5*IQR                        #Finding lower and upper bounds for all values. All values outside these bounds are outliers\n",
    "upper=Q3+1.5*IQR"
   ]
  },
  {
   "cell_type": "code",
   "execution_count": 45,
   "metadata": {
    "execution": {
     "iopub.execute_input": "2021-07-13T02:30:45.464713Z",
     "iopub.status.busy": "2021-07-13T02:30:45.464451Z",
     "iopub.status.idle": "2021-07-13T02:30:45.475241Z",
     "shell.execute_reply": "2021-07-13T02:30:45.474709Z",
     "shell.execute_reply.started": "2021-07-13T02:30:45.46469Z"
    }
   },
   "outputs": [],
   "source": [
    "outlier_num = df.select_dtypes(include=np.number)"
   ]
  },
  {
   "cell_type": "code",
   "execution_count": 46,
   "metadata": {},
   "outputs": [
    {
     "data": {
      "text/html": [
       "<div>\n",
       "<style scoped>\n",
       "    .dataframe tbody tr th:only-of-type {\n",
       "        vertical-align: middle;\n",
       "    }\n",
       "\n",
       "    .dataframe tbody tr th {\n",
       "        vertical-align: top;\n",
       "    }\n",
       "\n",
       "    .dataframe thead th {\n",
       "        text-align: right;\n",
       "    }\n",
       "</style>\n",
       "<table border=\"1\" class=\"dataframe\">\n",
       "  <thead>\n",
       "    <tr style=\"text-align: right;\">\n",
       "      <th></th>\n",
       "      <th>Age</th>\n",
       "      <th>DurationOfPitch</th>\n",
       "      <th>NumberOfFollowups</th>\n",
       "      <th>NumberOfTrips</th>\n",
       "      <th>MonthlyIncome</th>\n",
       "    </tr>\n",
       "  </thead>\n",
       "  <tbody>\n",
       "    <tr>\n",
       "      <th>0</th>\n",
       "      <td>41.0</td>\n",
       "      <td>6.0</td>\n",
       "      <td>3.0</td>\n",
       "      <td>1.0</td>\n",
       "      <td>20993.0</td>\n",
       "    </tr>\n",
       "    <tr>\n",
       "      <th>1</th>\n",
       "      <td>49.0</td>\n",
       "      <td>14.0</td>\n",
       "      <td>4.0</td>\n",
       "      <td>2.0</td>\n",
       "      <td>20130.0</td>\n",
       "    </tr>\n",
       "    <tr>\n",
       "      <th>2</th>\n",
       "      <td>37.0</td>\n",
       "      <td>8.0</td>\n",
       "      <td>4.0</td>\n",
       "      <td>7.0</td>\n",
       "      <td>17090.0</td>\n",
       "    </tr>\n",
       "    <tr>\n",
       "      <th>3</th>\n",
       "      <td>33.0</td>\n",
       "      <td>9.0</td>\n",
       "      <td>3.0</td>\n",
       "      <td>2.0</td>\n",
       "      <td>17909.0</td>\n",
       "    </tr>\n",
       "    <tr>\n",
       "      <th>4</th>\n",
       "      <td>32.0</td>\n",
       "      <td>8.0</td>\n",
       "      <td>3.0</td>\n",
       "      <td>1.0</td>\n",
       "      <td>18468.0</td>\n",
       "    </tr>\n",
       "    <tr>\n",
       "      <th>...</th>\n",
       "      <td>...</td>\n",
       "      <td>...</td>\n",
       "      <td>...</td>\n",
       "      <td>...</td>\n",
       "      <td>...</td>\n",
       "    </tr>\n",
       "    <tr>\n",
       "      <th>4883</th>\n",
       "      <td>49.0</td>\n",
       "      <td>9.0</td>\n",
       "      <td>5.0</td>\n",
       "      <td>2.0</td>\n",
       "      <td>26576.0</td>\n",
       "    </tr>\n",
       "    <tr>\n",
       "      <th>4884</th>\n",
       "      <td>28.0</td>\n",
       "      <td>31.0</td>\n",
       "      <td>5.0</td>\n",
       "      <td>3.0</td>\n",
       "      <td>21212.0</td>\n",
       "    </tr>\n",
       "    <tr>\n",
       "      <th>4885</th>\n",
       "      <td>52.0</td>\n",
       "      <td>17.0</td>\n",
       "      <td>4.0</td>\n",
       "      <td>7.0</td>\n",
       "      <td>31820.0</td>\n",
       "    </tr>\n",
       "    <tr>\n",
       "      <th>4886</th>\n",
       "      <td>19.0</td>\n",
       "      <td>16.0</td>\n",
       "      <td>4.0</td>\n",
       "      <td>3.0</td>\n",
       "      <td>20289.0</td>\n",
       "    </tr>\n",
       "    <tr>\n",
       "      <th>4887</th>\n",
       "      <td>36.0</td>\n",
       "      <td>14.0</td>\n",
       "      <td>4.0</td>\n",
       "      <td>3.0</td>\n",
       "      <td>24041.0</td>\n",
       "    </tr>\n",
       "  </tbody>\n",
       "</table>\n",
       "<p>4888 rows × 5 columns</p>\n",
       "</div>"
      ],
      "text/plain": [
       "       Age  DurationOfPitch  NumberOfFollowups  NumberOfTrips  MonthlyIncome\n",
       "0     41.0              6.0                3.0            1.0        20993.0\n",
       "1     49.0             14.0                4.0            2.0        20130.0\n",
       "2     37.0              8.0                4.0            7.0        17090.0\n",
       "3     33.0              9.0                3.0            2.0        17909.0\n",
       "4     32.0              8.0                3.0            1.0        18468.0\n",
       "...    ...              ...                ...            ...            ...\n",
       "4883  49.0              9.0                5.0            2.0        26576.0\n",
       "4884  28.0             31.0                5.0            3.0        21212.0\n",
       "4885  52.0             17.0                4.0            7.0        31820.0\n",
       "4886  19.0             16.0                4.0            3.0        20289.0\n",
       "4887  36.0             14.0                4.0            3.0        24041.0\n",
       "\n",
       "[4888 rows x 5 columns]"
      ]
     },
     "execution_count": 46,
     "metadata": {},
     "output_type": "execute_result"
    }
   ],
   "source": [
    "outlier_num"
   ]
  },
  {
   "cell_type": "code",
   "execution_count": 47,
   "metadata": {
    "execution": {
     "iopub.execute_input": "2021-07-13T02:30:45.476255Z",
     "iopub.status.busy": "2021-07-13T02:30:45.475991Z",
     "iopub.status.idle": "2021-07-13T02:30:45.500751Z",
     "shell.execute_reply": "2021-07-13T02:30:45.49984Z",
     "shell.execute_reply.started": "2021-07-13T02:30:45.476234Z"
    }
   },
   "outputs": [
    {
     "data": {
      "text/plain": [
       "Age                         0.000000\n",
       "CityTier                    0.000000\n",
       "CustomerID                  0.000000\n",
       "DurationOfPitch             0.040917\n",
       "MonthlyIncome               7.058101\n",
       "NumberOfChildrenVisiting    0.000000\n",
       "NumberOfFollowups           6.382979\n",
       "NumberOfPersonVisiting      0.000000\n",
       "NumberOfTrips               2.229951\n",
       "OwnCar                      0.000000\n",
       "Passport                    0.000000\n",
       "PitchSatisfactionScore      0.000000\n",
       "PreferredPropertyStar       0.000000\n",
       "ProdTaken                   0.000000\n",
       "dtype: float64"
      ]
     },
     "execution_count": 47,
     "metadata": {},
     "output_type": "execute_result"
    }
   ],
   "source": [
    "((outlier_num<lower)|(outlier_num>upper)).sum()/len(df)*100"
   ]
  },
  {
   "cell_type": "markdown",
   "metadata": {},
   "source": [
    "\n",
    "* MonthlyIncome and NumberofFollowups have high outliers compared to the other features.\n",
    "* However, we will not be treating outliers, as we will be building Decision Tree based models and Decision Tree models are not influenced by Outliers.\n",
    "* Furthermore, in real case scenario, we will encounter similar outliers and that would require the model to investigate if there is any pattern among the customers"
   ]
  },
  {
   "cell_type": "markdown",
   "metadata": {},
   "source": []
  },
  {
   "cell_type": "code",
   "execution_count": null,
   "metadata": {},
   "outputs": [],
   "source": []
  }
 ],
 "metadata": {
  "kernelspec": {
   "display_name": "Python 3 (ipykernel)",
   "language": "python",
   "name": "python3"
  },
  "language_info": {
   "codemirror_mode": {
    "name": "ipython",
    "version": 3
   },
   "file_extension": ".py",
   "mimetype": "text/x-python",
   "name": "python",
   "nbconvert_exporter": "python",
   "pygments_lexer": "ipython3",
   "version": "3.9.12"
  }
 },
 "nbformat": 4,
 "nbformat_minor": 4
}
